{
 "cells": [
  {
   "cell_type": "markdown",
   "metadata": {},
   "source": [
    "# Algorithmic Fairness, Accountability, and Ethics, Spring 2023\n",
    "\n",
    "## Mandatory Assignment 1\n",
    "\n",
    "Please use the following code to prepare the dataset.\n",
    " "
   ]
  },
  {
   "cell_type": "code",
   "execution_count": 1,
   "metadata": {},
   "outputs": [],
   "source": [
    "# !pip install folktables\n",
    "# !pip install hvplot"
   ]
  },
  {
   "cell_type": "code",
   "execution_count": 2,
   "metadata": {},
   "outputs": [],
   "source": [
    "from folktables.acs import adult_filter\n",
    "from folktables import ACSDataSource\n",
    "import numpy as np\n",
    "import pandas as pd\n",
    "from sklearn.model_selection import train_test_split\n",
    "\n",
    "\n",
    "data_source = ACSDataSource(survey_year='2018', horizon='1-Year', survey='person')\n",
    "acs_data = data_source.get_data(states=[\"CA\"], download=True)\n",
    "\n",
    "feature_names = ['AGEP', # Age\n",
    "                 \"CIT\", # Citizenship status\n",
    "                 'COW', # Class of worker\n",
    "                 \"ENG\", # Ability to speak English\n",
    "                 'SCHL', # Educational attainment\n",
    "                 'MAR', # Marital status\n",
    "                 \"HINS1\", # Insurance through a current or former employer or union\n",
    "                 \"HINS2\", # Insurance purchased directly from an insurance company\n",
    "                 \"HINS4\", # Medicaid\n",
    "                 \"RAC1P\", # Recoded detailed race code\n",
    "                 'SEX']\n",
    "\n",
    "target_name = \"PINCP\" # Total person's income\n",
    "\n",
    "def data_processing(data, features, target_name:str, threshold: float = 35000):\n",
    "    df = data\n",
    "    ### Adult Filter (STARTS) (from Foltktables)\n",
    "    df = df[~df[\"SEX\"].isnull()]\n",
    "    df = df[~df[\"RAC1P\"].isnull()]\n",
    "    df = df[df['AGEP'] > 16]\n",
    "    df = df[df['PINCP'] > 100]\n",
    "    df = df[df['WKHP'] > 0]\n",
    "    df = df[df['PWGTP'] >= 1]\n",
    "    ### Adult Filter (ENDS)\n",
    "    ### Groups of interest\n",
    "    sex = df[\"SEX\"].values\n",
    "    ### Target\n",
    "    df[\"target\"] = df[target_name] > threshold\n",
    "    target = df[\"target\"].values\n",
    "    df = df[features + [\"target\", target_name]] ##we want to keep df before one_hot encoding to make Bias Analysis\n",
    "    df_processed = df[features].copy()\n",
    "    cols = [ \"HINS1\", \"HINS2\", \"HINS4\", \"CIT\", \"COW\", \"SCHL\", \"MAR\", \"SEX\", \"RAC1P\"]\n",
    "    df_processed = pd.get_dummies(df_processed, prefix=None, prefix_sep='_', dummy_na=False, columns=cols, drop_first=True)\n",
    "    df_processed = pd.get_dummies(df_processed, prefix=None, prefix_sep='_', dummy_na=True, columns=[\"ENG\"], drop_first=True)\n",
    "    return df_processed, df, target, sex\n",
    "\n",
    "data, data_original, target, group = data_processing(acs_data.sample(10_000), feature_names, target_name)\n",
    "\n",
    "X_train, X_test, y_train, y_test, group_train, group_test = train_test_split(\n",
    "    data, target, group, test_size=0.2, random_state=0)"
   ]
  },
  {
   "cell_type": "code",
   "execution_count": null,
   "metadata": {},
   "outputs": [],
   "source": []
  },
  {
   "cell_type": "code",
   "execution_count": 56,
   "metadata": {},
   "outputs": [],
   "source": [
    "from sklearn.preprocessing import MinMaxScaler\n",
    "from sklearn.linear_model import LogisticRegression\n",
    "#from sklearn.svm import SVC # Too slow\n",
    "from sklearn.ensemble import RandomForestClassifier\n",
    "from sklearn.pipeline import make_pipeline\n",
    "import matplotlib.pyplot as plt\n",
    "\n",
    "import hvplot.pandas\n",
    "import holoviews as hv"
   ]
  },
  {
   "cell_type": "code",
   "execution_count": 4,
   "metadata": {},
   "outputs": [],
   "source": [
    "clf1 = make_pipeline(MinMaxScaler(), LogisticRegression())\n",
    "clf2 = make_pipeline(MinMaxScaler(), RandomForestClassifier(max_depth=3))\n",
    "clfs = [clf1, clf2]\n",
    "train_group_masks = [group_train == 1, group_train == 2]\n",
    "test_group_masks = [group_test == 1, group_test == 2]"
   ]
  },
  {
   "cell_type": "code",
   "execution_count": 5,
   "metadata": {},
   "outputs": [],
   "source": [
    "for clf in clfs:\n",
    "    clf.fit(X_train, y_train)"
   ]
  },
  {
   "cell_type": "code",
   "execution_count": 17,
   "metadata": {},
   "outputs": [],
   "source": [
    "# df_whitebox_metric = pd.DataFrame([[0]*11], columns=[\"Accuracy\",\"SP_1\",\"SP_2\",\"Eodd0_1\",\"Eodd0_2\",\"Eodd1_1\",\"Eodd1_2\",\"Eout0_1\",\"Eout0_2\",\"Eout1_1\",\"Eout1_2\"])\n",
    "# df_blackbox_metric = pd.DataFrame([[0]*11], columns=[\"Accuracy\",\"SP_1\",\"SP_2\",\"Eodd0_1\",\"Eodd0_2\",\"Eodd1_1\",\"Eodd1_2\",\"Eout0_1\",\"Eout0_2\",\"Eout1_1\",\"Eout1_2\"])\n",
    "# df_boxes = [df_whitebox_metric, df_blackbox_metric]\n",
    "df_metrics = pd.DataFrame([[0]*11]*2, index=[\"WhiteBox\",\"BlackBox\"],columns=[\"Accuracy\",\"SP_1\",\"SP_2\",\"Eodd0_1\",\"Eodd0_2\",\"Eodd1_1\",\"Eodd1_2\",\"Eout0_1\",\"Eout0_2\",\"Eout1_1\",\"Eout1_2\"])\n",
    "df_boxes = [\"WhiteBox\", \"BlackBox\"]"
   ]
  },
  {
   "cell_type": "code",
   "execution_count": 35,
   "metadata": {},
   "outputs": [
    {
     "name": "stdout",
     "output_type": "stream",
     "text": [
      "Baseline accuracy\n",
      "LogisticRegression() \n",
      " 0.749\n",
      "RandomForestClassifier(max_depth=3) \n",
      " 0.76\n"
     ]
    }
   ],
   "source": [
    "print(\"Baseline accuracy\")\n",
    "for i, clf in enumerate(clfs):\n",
    "    Accuracy = round(clf.score(X_test,y_test),3)\n",
    "    print(clf[1],\"\\n\",Accuracy)\n",
    "    df_metrics.loc[df_boxes[i],\"Accuracy\"]= Accuracy\n",
    "    "
   ]
  },
  {
   "cell_type": "code",
   "execution_count": null,
   "metadata": {},
   "outputs": [],
   "source": [
    "scores = [\n",
    "    [clf.score(X_test[mask], y_test[mask]) for mask in test_group_masks] for clf in clfs\n",
    "]\n",
    "pd.DataFrame(\n",
    "    scores, columns=[\"Group 1\", \"Group 2\"], index=[\"WhiteBox\", \"BlackBox\"]\n",
    ").rename_axis(\"Baseline accuracy [%]\").round(2)\n",
    "\n"
   ]
  },
  {
   "cell_type": "code",
   "execution_count": 38,
   "metadata": {},
   "outputs": [],
   "source": [
    "positives = [\n",
    "    [clf.predict(X_test[mask]).mean() for mask in test_group_masks] for clf in clfs\n",
    "]\n",
    "pd.DataFrame(\n",
    "    positives, columns=[\"Group 1\", \"Group 2\"], index=[\"WhiteBox\", \"BlackBox\"]\n",
    ").rename_axis(\"Baseline positive [%]\").round(2)\n",
    "df_metrics.loc[\"WhiteBox\",\"SP_1\"] = positives[0][0]\n",
    "df_metrics.loc[\"WhiteBox\",\"SP_2\"] = positives[0][1]\n",
    "df_metrics.loc[\"BlackBox\",\"SP_1\"] = positives[1][0]\n",
    "df_metrics.loc[\"BlackBox\",\"SP_2\"] = positives[1][1]"
   ]
  },
  {
   "cell_type": "code",
   "execution_count": 47,
   "metadata": {},
   "outputs": [
    {
     "data": {
      "text/plain": [
       "[Pipeline(steps=[('minmaxscaler', MinMaxScaler()),\n",
       "                 ('logisticregression', LogisticRegression())]),\n",
       " Pipeline(steps=[('minmaxscaler', MinMaxScaler()),\n",
       "                 ('randomforestclassifier',\n",
       "                  RandomForestClassifier(max_depth=3))])]"
      ]
     },
     "execution_count": 47,
     "metadata": {},
     "output_type": "execute_result"
    }
   ],
   "source": [
    "clfs"
   ]
  },
  {
   "cell_type": "code",
   "execution_count": 49,
   "metadata": {},
   "outputs": [],
   "source": [
    "def get_group_df(group, group_no,clf):\n",
    "    prob = pd.Series(clf.predict_proba(X_train[group])[:, 1], name=\"prob\")\n",
    "    T = pd.Series(y_train[group], name=\"T\")\n",
    "    G = pd.Series([bool(group_no)] * len(T), name=\"G\")\n",
    "    return pd.concat([prob, G, T], axis=1)\n",
    "\n",
    "for i, box in enumerate(df_boxes):\n",
    "    \n",
    "    df = pd.concat(\n",
    "        [get_group_df(group, group_no,clfs[i]) for group_no, group in enumerate(train_group_masks)],)\n",
    "    df[\"S\"] = df[\"prob\"] * 100 > 50\n",
    "    #G is group\n",
    "    #T is target\n",
    "    #S is prediction/selection\n",
    "    TP_group1 = len(df.query(\"T and S and ~G\"))\n",
    "    TPR_group1 = TP_group1/len(df.query(\"~G and T\"))\n",
    "    TP_group2 = len(df.query(\"T and S and G\"))\n",
    "    TPR_group2 = TP_group2/len(df.query(\"G and T\"))\n",
    "    df_metrics.loc[box,\"Eodd0_1\"] = TPR_group1\n",
    "    df_metrics.loc[box,\"Eodd0_2\"] = TPR_group2\n",
    "    FPR_group1 = len(df.query(\"~T and ~S and ~G\"))/len(df.query(\"~G and ~T\"))\n",
    "    df_metrics.loc[box,\"Eodd1_1\"] = FPR_group1\n",
    "    FPR_group1 = len(df.query(\"~T and ~S and G\"))/len(df.query(\"G and ~T\"))\n",
    "    df_metrics.loc[box,\"Eodd1_2\"] = FPR_group1\n",
    "    # Equalized outcome 0 is precision\n",
    "    Precision_group1 = len(df.query(\"~G and T and S\"))/len(df.query(\"~G and S\"))\n",
    "    df_metrics.loc[box,\"Eout0_1\"] = Precision_group1\n",
    "    Precision_group2 = len(df.query(\"G and T and S\"))/len(df.query(\"G and S\"))\n",
    "    df_metrics.loc[box,\"Eout0_2\"] = Precision_group2\n",
    "    EOut1_group1 = len(df.query(\"~G and T and ~S\"))/len(df.query(\"~G and ~S\"))\n",
    "    df_metrics.loc[box,\"Eout1_1\"] = EOut1_group1\n",
    "    EOut1_group2 = len(df.query(\"G and T and ~S\"))/len(df.query(\"G and ~S\"))\n",
    "    df_metrics.loc[box,\"Eout1_2\"] = EOut1_group2\n",
    "    \n",
    "    "
   ]
  },
  {
   "cell_type": "code",
   "execution_count": 68,
   "metadata": {},
   "outputs": [
    {
     "data": {
      "text/plain": [
       "Text(0, 0.5, 'Probability')"
      ]
     },
     "execution_count": 68,
     "metadata": {},
     "output_type": "execute_result"
    },
    {
     "data": {
      "image/png": "[encoded data removed]",
      "text/plain": [
       "<Figure size 432x288 with 1 Axes>"
      ]
     },
     "metadata": {
      "needs_background": "light"
     },
     "output_type": "display_data"
    }
   ],
   "source": [
    "# df\n",
    "colorlist=[\"g\",\"b\",\"r\",\"b\",\"r\",\"b\",\"r\",\"b\",\"r\",\"b\",\"r\"]\n",
    "plt.bar(df_metrics.columns,height=df_metrics.loc[\"WhiteBox\"],color=colorlist)\n",
    "plt.xticks(rotation=60);\n",
    "plt.title(\"WhiteBox metrics\")\n",
    "plt.ylabel(\"Probability\")\n"
   ]
  },
  {
   "cell_type": "code",
   "execution_count": 69,
   "metadata": {},
   "outputs": [
    {
     "data": {
      "text/plain": [
       "Text(0, 0.5, 'Probability')"
      ]
     },
     "execution_count": 69,
     "metadata": {},
     "output_type": "execute_result"
    },
    {
     "data": {
      "image/png": "[encoded data removed]",
      "text/plain": [
       "<Figure size 432x288 with 1 Axes>"
      ]
     },
     "metadata": {
      "needs_background": "light"
     },
     "output_type": "display_data"
    }
   ],
   "source": [
    "plt.bar(df_metrics.columns,height=df_metrics.loc[\"BlackBox\"],color=colorlist)\n",
    "plt.xticks(rotation=60);\n",
    "plt.title(\"BlackBox metrics\")\n",
    "plt.ylabel(\"Probability\")"
   ]
  },
  {
   "cell_type": "code",
   "execution_count": null,
   "metadata": {},
   "outputs": [],
   "source": [
    "def ROC_curve(clf):\n",
    "\n",
    "    def get_group_df(group, group_no):\n",
    "        prob = pd.Series(clf.predict_proba(X_train[group])[:, 1], name=\"prob\")\n",
    "        T = pd.Series(y_train[group], name=\"T\")\n",
    "        G = pd.Series([bool(group_no)] * len(T), name=\"G\")\n",
    "        return pd.concat([prob, G, T], axis=1)\n",
    "\n",
    "\n",
    "    df = pd.concat(\n",
    "        [get_group_df(group, group_no) for group_no, group in enumerate(train_group_masks)],\n",
    "    )\n",
    "\n",
    "    ROC_g = []\n",
    "    ROC_G = []\n",
    "    for threshold in range(5, 100, 5):\n",
    "        df[\"S\"] = df[\"prob\"] * 100 > threshold\n",
    "        # TP_G = Count(S, G, T) / Count(G, T)\n",
    "        # FP_G = Count(S, G, ~T) / Count(G, ~T)\n",
    "        TP_g = len(df.query(\"S and ~G and T\")) / len(df.query(\"~G and T\"))\n",
    "        FP_g = len(df.query(\"S and ~G and ~T\")) / len(df.query(\"~G and ~T\"))\n",
    "        ROC_g.append([TP_g, FP_g, threshold])\n",
    "        TP_G = len(df.query(\"S and G and T\")) / len(df.query(\"G and T\"))\n",
    "        FP_G = len(df.query(\"S and G and ~T\")) / len(df.query(\"G and ~T\"))\n",
    "        ROC_G.append([TP_G, FP_G, threshold])\n",
    "\n",
    "        if threshold == 50:\n",
    "            g_mid = [[TP_g, FP_g, 50]]\n",
    "            G_mid = [[TP_G, FP_G, 50]]\n",
    "\n",
    "    kwargs = dict(y='0', x='1', hover_cols=['2'], xlabel='False Positive Rate = Pr(S=1 | G=g, T=0)', ylabel='True Positive Rate = Pr(S=1 | G=g, T=1)')\n",
    "    ROC_plot = pd.DataFrame(ROC_g).hvplot(**kwargs).relabel('G=1') * pd.DataFrame(ROC_G).hvplot(**kwargs).relabel('G=2')\n",
    "    mids = pd.DataFrame(g_mid).hvplot.scatter(**kwargs) * pd.DataFrame(G_mid).hvplot.scatter(**kwargs)\n",
    "    return ROC_plot * mids\n",
    "plots = ROC_curve(clfs[0]).opts(title=str(clfs[0])) + ROC_curve(clfs[1]).opts(title=str(clfs[1]))\n",
    "plots.cols(1)"
   ]
  },
  {
   "cell_type": "code",
   "execution_count": null,
   "metadata": {},
   "outputs": [],
   "source": []
  },
  {
   "cell_type": "markdown",
   "metadata": {},
   "source": [
    "# Creating statistical parity"
   ]
  },
  {
   "cell_type": "code",
   "execution_count": null,
   "metadata": {},
   "outputs": [],
   "source": [
    "scores = []\n",
    "for clf in clfs:\n",
    "    preds = [clf.predict(X_test[mask]) for mask in test_group_masks]\n",
    "    lowest_pred = min(pred.mean() for pred in preds)\n",
    "\n",
    "    def statistical_parity(pred: np.array) -> np.array:\n",
    "        ratio_delta = pred.mean() - lowest_pred\n",
    "        n_remove = int(len(pred) * ratio_delta)\n",
    "        remove_idx = np.random.choice(\n",
    "            np.where(pred == 1)[0], size=n_remove, replace=False\n",
    "        )\n",
    "        pred[remove_idx] = 0\n",
    "        return pred\n",
    "\n",
    "    preds = [statistical_parity(pred) for pred in preds]\n",
    "    scores.append([pred.mean() for pred in preds])\n",
    "\n",
    "pd.DataFrame(\n",
    "    scores, columns=[\"Group 1\", \"Group 2\"], index=[\"WhiteBox\", \"BlackBox\"]\n",
    ").rename_axis(\"Parity positive [%]\").round(2)"
   ]
  },
  {
   "cell_type": "markdown",
   "metadata": {},
   "source": [
    "# Trying to have equalized odds under same threshold (fails)"
   ]
  },
  {
   "cell_type": "code",
   "execution_count": null,
   "metadata": {},
   "outputs": [],
   "source": [
    "# ROC_g = []\n",
    "# threshold = 61\n",
    "# for p in range(0, 15, 1):\n",
    "#     TP = []\n",
    "#     FP = []\n",
    "#     for _ in range(10):\n",
    "#         n_random = int(len(df)*p/100)\n",
    "#         df['S'] = df['prob']*100 > threshold\n",
    "#         random_idx = np.random.choice(df.index, size=n_random, replace=False)\n",
    "#         df.loc[random_idx, 'S'] = np.random.choice([True, False], size=n_random, replace=True)\n",
    "\n",
    "#         # TP_G = Count(S, G, T) / Count(G, T)\n",
    "#         # FP_G = Count(S, G, ~T) / Count(G, ~T)\n",
    "#         TP.append(len(df.query('S and ~G and T')) / len(df.query('~G and T')))\n",
    "#         FP.append(len(df.query('S and ~G and ~T')) / len(df.query('~G and ~T')))\n",
    "#     ROC_g.append([sum(TP)/len(TP), sum(FP)/len(FP), p])\n",
    "# random_plot = pd.DataFrame(ROC_g).hvplot(**kwargs).relabel('Randomized')\n",
    "# ROC_plot * random_plot"
   ]
  }
 ],
 "metadata": {
  "kernelspec": {
   "display_name": "Python 3 (ipykernel)",
   "language": "python",
   "name": "python3"
  },
  "language_info": {
   "codemirror_mode": {
    "name": "ipython",
    "version": 3
   },
   "file_extension": ".py",
   "mimetype": "text/x-python",
   "name": "python",
   "nbconvert_exporter": "python",
   "pygments_lexer": "ipython3",
   "version": "3.9.7"
  },
  "vscode": {
   "interpreter": {
    "hash": "5000f566ae852e83166ca6f17c08f4027204c584903a450ab8f91dfaa0546e2d"
   }
  }
 },
 "nbformat": 4,
 "nbformat_minor": 2
}
