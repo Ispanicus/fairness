{
 "cells": [
  {
   "attachments": {},
   "cell_type": "markdown",
   "metadata": {},
   "source": [
    "# Algoithmic Fairness, Accountability and Ethics\n",
    "## Assignment 2 (Template)"
   ]
  },
  {
   "cell_type": "code",
   "execution_count": 278,
   "metadata": {},
   "outputs": [],
   "source": [
    "from folktables import ACSDataSource, BasicProblem, generate_categories\n",
    "import numpy as np\n",
    "import scipy.optimize as opt"
   ]
  },
  {
   "attachments": {},
   "cell_type": "markdown",
   "metadata": {},
   "source": [
    "### 1. Load and Preprocess the data\n",
    "We are going to work with the [Folktables](https://github.com/socialfoundations/folktables#quick-start-examples) dataset (*you have already worked with it*).\n",
    "\n",
    "1. As last week, we are still predicting the *Total person's income*  (I've digitized  it in  `target_transform=lambda x: x > 25000`).\n",
    "2. Today, we are going to implement two methods for data debiasing: [Fair PCA](https://deepai.org/publication/efficient-fair-pca-for-fair-representation-learning) and [A Geometric Solution to Fair Representations](https://dl.acm.org/doi/10.1145/3375627.3375864).\n",
    "3. We are going to evaluate the performance on two sensitive features: `SEX` (i.e. *Males* and *Females*) and `RAC1P` (we will consider only *Whites* and *African-Americans*)\n",
    "4. I updated the filtering method `adult_filter` to keep the specified groups."
   ]
  },
  {
   "cell_type": "code",
   "execution_count": 279,
   "metadata": {},
   "outputs": [],
   "source": [
    "data_source = ACSDataSource(survey_year='2018', horizon='1-Year', survey='person')\n",
    "acs_data = data_source.get_data(states=[\"CA\"], download=True)\n",
    "\n",
    "def adult_filter(data):\n",
    "    \"\"\"Mimic the filters in place for Adult data.\n",
    "    Adult documentation notes: Extraction was done by Barry Becker from\n",
    "    the 1994 Census database. A set of reasonably clean records was extracted\n",
    "    using the following conditions:\n",
    "    ((AAGE>16) && (AGI>100) && (AFNLWGT>1)&& (HRSWK>0))\n",
    "    \"\"\"\n",
    "    df = data\n",
    "    df = df[df['AGEP'] > 16]\n",
    "    df = df[df['PINCP'] > 100]\n",
    "    df = df[df['WKHP'] > 0]\n",
    "    df = df[df['PWGTP'] >= 1]\n",
    "    df = df[df[\"RAC1P\"] < 3] ## keep only Whites and African-Americans\n",
    "    return df\n",
    "\n",
    "\n",
    "ACSIncomeNew = BasicProblem(\n",
    "    features=[\n",
    "        'AGEP',\n",
    "        'COW',\n",
    "        'SCHL',\n",
    "        'MAR',\n",
    "        'CIT',\n",
    "        'RELP',\n",
    "        'WKHP',\n",
    "        'PWGTP',\n",
    "        'SEX',\n",
    "        'RAC1P'\n",
    "    ],\n",
    "    target='PINCP',\n",
    "    target_transform=lambda x: x > 25000,    \n",
    "    group=['SEX', \"RAC1P\"],\n",
    "    preprocess=adult_filter,\n",
    "    postprocess=lambda x: np.nan_to_num(x, -1),\n",
    ")"
   ]
  },
  {
   "attachments": {},
   "cell_type": "markdown",
   "metadata": {},
   "source": [
    "## Task 1"
   ]
  },
  {
   "cell_type": "code",
   "execution_count": 280,
   "metadata": {},
   "outputs": [],
   "source": [
    "######\n",
    "## YOUR CODE\n",
    "#####"
   ]
  },
  {
   "cell_type": "markdown",
   "metadata": {},
   "source": [
    "## Task 2"
   ]
  },
  {
   "cell_type": "markdown",
   "metadata": {},
   "source": [
    "### Convert categorical to one-hot encoding"
   ]
  },
  {
   "cell_type": "code",
   "execution_count": 281,
   "metadata": {},
   "outputs": [
    {
     "data": {
      "text/html": [
       "<div>\n",
       "<style scoped>\n",
       "    .dataframe tbody tr th:only-of-type {\n",
       "        vertical-align: middle;\n",
       "    }\n",
       "\n",
       "    .dataframe tbody tr th {\n",
       "        vertical-align: top;\n",
       "    }\n",
       "\n",
       "    .dataframe thead th {\n",
       "        text-align: right;\n",
       "    }\n",
       "</style>\n",
       "<table border=\"1\" class=\"dataframe\">\n",
       "  <thead>\n",
       "    <tr style=\"text-align: right;\">\n",
       "      <th></th>\n",
       "      <th>AGEP</th>\n",
       "      <th>WKHP</th>\n",
       "      <th>PWGTP</th>\n",
       "      <th>COW_Employee of a private for-profit company or business, or of an individual, for wages, salary, or commissions</th>\n",
       "      <th>COW_Employee of a private not-for-profit, tax-exempt, or charitable organization</th>\n",
       "      <th>COW_Federal government employee</th>\n",
       "      <th>COW_Local government employee (city, county, etc.)</th>\n",
       "      <th>COW_Self-employed in own incorporated business, professional practice or farm</th>\n",
       "      <th>COW_Self-employed in own not incorporated business, professional practice, or farm</th>\n",
       "      <th>COW_State government employee</th>\n",
       "      <th>...</th>\n",
       "      <th>RELP_Parent-in-law</th>\n",
       "      <th>RELP_Reference person</th>\n",
       "      <th>RELP_Roomer or boarder</th>\n",
       "      <th>RELP_Son-in-law or daughter-in-law</th>\n",
       "      <th>RELP_Stepson or stepdaughter</th>\n",
       "      <th>RELP_Unmarried partner</th>\n",
       "      <th>SEX_Female</th>\n",
       "      <th>SEX_Male</th>\n",
       "      <th>RAC1P_Black or African American alone</th>\n",
       "      <th>RAC1P_White alone</th>\n",
       "    </tr>\n",
       "  </thead>\n",
       "  <tbody>\n",
       "    <tr>\n",
       "      <th>0</th>\n",
       "      <td>21.0</td>\n",
       "      <td>20.0</td>\n",
       "      <td>52.0</td>\n",
       "      <td>0.0</td>\n",
       "      <td>0.0</td>\n",
       "      <td>0.0</td>\n",
       "      <td>0.0</td>\n",
       "      <td>0.0</td>\n",
       "      <td>0.0</td>\n",
       "      <td>1.0</td>\n",
       "      <td>...</td>\n",
       "      <td>0.0</td>\n",
       "      <td>0.0</td>\n",
       "      <td>0.0</td>\n",
       "      <td>0.0</td>\n",
       "      <td>0.0</td>\n",
       "      <td>0.0</td>\n",
       "      <td>0.0</td>\n",
       "      <td>1.0</td>\n",
       "      <td>0.0</td>\n",
       "      <td>1.0</td>\n",
       "    </tr>\n",
       "    <tr>\n",
       "      <th>1</th>\n",
       "      <td>65.0</td>\n",
       "      <td>8.0</td>\n",
       "      <td>33.0</td>\n",
       "      <td>0.0</td>\n",
       "      <td>1.0</td>\n",
       "      <td>0.0</td>\n",
       "      <td>0.0</td>\n",
       "      <td>0.0</td>\n",
       "      <td>0.0</td>\n",
       "      <td>0.0</td>\n",
       "      <td>...</td>\n",
       "      <td>0.0</td>\n",
       "      <td>0.0</td>\n",
       "      <td>0.0</td>\n",
       "      <td>0.0</td>\n",
       "      <td>0.0</td>\n",
       "      <td>0.0</td>\n",
       "      <td>0.0</td>\n",
       "      <td>1.0</td>\n",
       "      <td>0.0</td>\n",
       "      <td>1.0</td>\n",
       "    </tr>\n",
       "    <tr>\n",
       "      <th>2</th>\n",
       "      <td>33.0</td>\n",
       "      <td>40.0</td>\n",
       "      <td>53.0</td>\n",
       "      <td>1.0</td>\n",
       "      <td>0.0</td>\n",
       "      <td>0.0</td>\n",
       "      <td>0.0</td>\n",
       "      <td>0.0</td>\n",
       "      <td>0.0</td>\n",
       "      <td>0.0</td>\n",
       "      <td>...</td>\n",
       "      <td>0.0</td>\n",
       "      <td>0.0</td>\n",
       "      <td>0.0</td>\n",
       "      <td>0.0</td>\n",
       "      <td>0.0</td>\n",
       "      <td>0.0</td>\n",
       "      <td>0.0</td>\n",
       "      <td>1.0</td>\n",
       "      <td>0.0</td>\n",
       "      <td>1.0</td>\n",
       "    </tr>\n",
       "    <tr>\n",
       "      <th>3</th>\n",
       "      <td>18.0</td>\n",
       "      <td>18.0</td>\n",
       "      <td>106.0</td>\n",
       "      <td>0.0</td>\n",
       "      <td>1.0</td>\n",
       "      <td>0.0</td>\n",
       "      <td>0.0</td>\n",
       "      <td>0.0</td>\n",
       "      <td>0.0</td>\n",
       "      <td>0.0</td>\n",
       "      <td>...</td>\n",
       "      <td>0.0</td>\n",
       "      <td>0.0</td>\n",
       "      <td>0.0</td>\n",
       "      <td>0.0</td>\n",
       "      <td>0.0</td>\n",
       "      <td>0.0</td>\n",
       "      <td>1.0</td>\n",
       "      <td>0.0</td>\n",
       "      <td>0.0</td>\n",
       "      <td>1.0</td>\n",
       "    </tr>\n",
       "    <tr>\n",
       "      <th>4</th>\n",
       "      <td>27.0</td>\n",
       "      <td>50.0</td>\n",
       "      <td>23.0</td>\n",
       "      <td>0.0</td>\n",
       "      <td>0.0</td>\n",
       "      <td>1.0</td>\n",
       "      <td>0.0</td>\n",
       "      <td>0.0</td>\n",
       "      <td>0.0</td>\n",
       "      <td>0.0</td>\n",
       "      <td>...</td>\n",
       "      <td>0.0</td>\n",
       "      <td>0.0</td>\n",
       "      <td>0.0</td>\n",
       "      <td>0.0</td>\n",
       "      <td>0.0</td>\n",
       "      <td>0.0</td>\n",
       "      <td>0.0</td>\n",
       "      <td>1.0</td>\n",
       "      <td>0.0</td>\n",
       "      <td>1.0</td>\n",
       "    </tr>\n",
       "  </tbody>\n",
       "</table>\n",
       "<p>5 rows × 67 columns</p>\n",
       "</div>"
      ],
      "text/plain": [
       "   AGEP  WKHP  PWGTP  \\\n",
       "0  21.0  20.0   52.0   \n",
       "1  65.0   8.0   33.0   \n",
       "2  33.0  40.0   53.0   \n",
       "3  18.0  18.0  106.0   \n",
       "4  27.0  50.0   23.0   \n",
       "\n",
       "   COW_Employee of a private for-profit company or business, or of an individual, for wages, salary, or commissions  \\\n",
       "0                                                0.0                                                                  \n",
       "1                                                0.0                                                                  \n",
       "2                                                1.0                                                                  \n",
       "3                                                0.0                                                                  \n",
       "4                                                0.0                                                                  \n",
       "\n",
       "   COW_Employee of a private not-for-profit, tax-exempt, or charitable organization  \\\n",
       "0                                                0.0                                  \n",
       "1                                                1.0                                  \n",
       "2                                                0.0                                  \n",
       "3                                                1.0                                  \n",
       "4                                                0.0                                  \n",
       "\n",
       "   COW_Federal government employee  \\\n",
       "0                              0.0   \n",
       "1                              0.0   \n",
       "2                              0.0   \n",
       "3                              0.0   \n",
       "4                              1.0   \n",
       "\n",
       "   COW_Local government employee (city, county, etc.)  \\\n",
       "0                                                0.0    \n",
       "1                                                0.0    \n",
       "2                                                0.0    \n",
       "3                                                0.0    \n",
       "4                                                0.0    \n",
       "\n",
       "   COW_Self-employed in own incorporated business, professional practice or farm  \\\n",
       "0                                                0.0                               \n",
       "1                                                0.0                               \n",
       "2                                                0.0                               \n",
       "3                                                0.0                               \n",
       "4                                                0.0                               \n",
       "\n",
       "   COW_Self-employed in own not incorporated business, professional practice, or farm  \\\n",
       "0                                                0.0                                    \n",
       "1                                                0.0                                    \n",
       "2                                                0.0                                    \n",
       "3                                                0.0                                    \n",
       "4                                                0.0                                    \n",
       "\n",
       "   COW_State government employee  ...  RELP_Parent-in-law  \\\n",
       "0                            1.0  ...                 0.0   \n",
       "1                            0.0  ...                 0.0   \n",
       "2                            0.0  ...                 0.0   \n",
       "3                            0.0  ...                 0.0   \n",
       "4                            0.0  ...                 0.0   \n",
       "\n",
       "   RELP_Reference person  RELP_Roomer or boarder  \\\n",
       "0                    0.0                     0.0   \n",
       "1                    0.0                     0.0   \n",
       "2                    0.0                     0.0   \n",
       "3                    0.0                     0.0   \n",
       "4                    0.0                     0.0   \n",
       "\n",
       "   RELP_Son-in-law or daughter-in-law  RELP_Stepson or stepdaughter  \\\n",
       "0                                 0.0                           0.0   \n",
       "1                                 0.0                           0.0   \n",
       "2                                 0.0                           0.0   \n",
       "3                                 0.0                           0.0   \n",
       "4                                 0.0                           0.0   \n",
       "\n",
       "   RELP_Unmarried partner  SEX_Female  SEX_Male  \\\n",
       "0                     0.0         0.0       1.0   \n",
       "1                     0.0         0.0       1.0   \n",
       "2                     0.0         0.0       1.0   \n",
       "3                     0.0         1.0       0.0   \n",
       "4                     0.0         0.0       1.0   \n",
       "\n",
       "   RAC1P_Black or African American alone  RAC1P_White alone  \n",
       "0                                    0.0                1.0  \n",
       "1                                    0.0                1.0  \n",
       "2                                    0.0                1.0  \n",
       "3                                    0.0                1.0  \n",
       "4                                    0.0                1.0  \n",
       "\n",
       "[5 rows x 67 columns]"
      ]
     },
     "execution_count": 281,
     "metadata": {},
     "output_type": "execute_result"
    }
   ],
   "source": [
    "definition_df = data_source.get_definitions(download=True)\n",
    "categories = generate_categories(features=ACSIncomeNew.features, definition_df=definition_df)\n",
    "features_raw, labels, groups = ACSIncomeNew.df_to_pandas(acs_data, categories=categories, dummies=True)\n",
    "### groups now contain information about SEX and RAC1P\n",
    "features_raw.head()"
   ]
  },
  {
   "cell_type": "code",
   "execution_count": 282,
   "metadata": {},
   "outputs": [
    {
     "name": "stdout",
     "output_type": "stream",
     "text": [
      "Columns with the protected features:\n",
      "Column ID: 57 (SEX_Female)\n",
      "Column ID: 58 (RAC1P_Black or African American alone)\n"
     ]
    }
   ],
   "source": [
    "# Drop the \"redundant\" columns\n",
    "features = features_raw.drop([\"RELP_Unmarried partner\",\n",
    "                          \"CIT_U.S. citizen by naturalization\",\n",
    "                          \"SEX_Male\",\n",
    "                          \"SCHL_1 or more years of college credit, no degree\",  \n",
    "                          \"MAR_Divorced\", \n",
    "                          \"RELP_Adopted son or daughter\",\n",
    "                          'COW_Working without pay in family business or farm', \n",
    "                          \"RAC1P_White alone\" ], axis = 1) \n",
    "\n",
    "print(\"Columns with the protected features:\")\n",
    "for i, f in enumerate(features.columns):\n",
    "    if (\"RAC1P\" in f) or (\"SEX\" in f):\n",
    "        print(\"Column ID: %s\" %i, \"(%s)\"%f)"
   ]
  },
  {
   "cell_type": "code",
   "execution_count": 283,
   "metadata": {},
   "outputs": [],
   "source": [
    "from sklearn.model_selection import train_test_split"
   ]
  },
  {
   "cell_type": "code",
   "execution_count": 321,
   "metadata": {},
   "outputs": [],
   "source": [
    "X_train, X_test, y_train, y_test, group_train, group_test = train_test_split(\n",
    "    features, labels, groups, test_size=0.3, random_state=0, shuffle=True)\n",
    "\n",
    "N = 5000 ### I am subsampling because it is slow on my machine\n",
    "\n",
    "X_train = X_train[:N]\n",
    "y_train = y_train[:N]\n",
    "group_train = group_train[:N]\n",
    "X_test = X_test[:N]\n",
    "y_test = y_test[:N]\n",
    "group_test = group_test[:N]"
   ]
  },
  {
   "attachments": {},
   "cell_type": "markdown",
   "metadata": {},
   "source": [
    "### Build your own implementation of the Logistic Regression with L2-penalty (aka Ridge Regression)."
   ]
  },
  {
   "cell_type": "code",
   "execution_count": 336,
   "metadata": {},
   "outputs": [
    {
     "name": "stderr",
     "output_type": "stream",
     "text": [
      "C:\\Users\\Christoffer\\AppData\\Local\\Temp\\ipykernel_10384\\1288195059.py:18: RuntimeWarning: overflow encountered in exp\n",
      "  return 1 / (1 + np.exp(-x-eps))\n"
     ]
    },
    {
     "data": {
      "text/plain": [
       "0.8282"
      ]
     },
     "execution_count": 336,
     "metadata": {},
     "output_type": "execute_result"
    }
   ],
   "source": [
    "from sklearn.preprocessing import MinMaxScaler\n",
    "from sklearn.base import BaseEstimator\n",
    "from sklearn.preprocessing import MinMaxScaler, OneHotEncoder, StandardScaler\n",
    "from sklearn.pipeline import make_pipeline\n",
    "from sklearn.linear_model import LogisticRegression\n",
    "from sklearn.model_selection import GridSearchCV\n",
    "from sklearn.impute import SimpleImputer\n",
    "from sklearn.compose import ColumnTransformer\n",
    "import sklearn\n",
    "import pandas as pd\n",
    "\n",
    "def sigmoid(x, eps=1e-10):\n",
    "    \"\"\"\n",
    "    This is logistic regression\n",
    "    f = 1/(1+exp(-beta^T * x))\n",
    "    This function assumes as input that you have already multiplied beta and X together\n",
    "    \"\"\"\n",
    "    return 1 / (1 + np.exp(-x-eps))\n",
    "\n",
    "\n",
    "def logistic_loss(y_true, y_pred, eps=1e-10):\n",
    "    \"\"\"\n",
    "    Loss for the logistic regression, y_preds are probabilities\n",
    "    eps: epsilon for stability\n",
    "    \"\"\"\n",
    "    return np.mean(\n",
    "        -y_true * np.log(y_pred+eps) - (1 - y_true) * np.log(1 - y_pred+eps)\n",
    "    )\n",
    "\n",
    "\n",
    "def l2_loss(beta):\n",
    "    \"\"\"\n",
    "    L2-Regularisation\n",
    "    \"\"\"\n",
    "    return np.sum(beta[1:]**2)\n",
    "\n",
    "\n",
    "def group_fair_loss(y, y_pred, all_groups):\n",
    "    \"\"\"\n",
    "    Group fairness Loss\n",
    "    \"\"\"\n",
    "    fairness = 0\n",
    "    for groups in all_groups.T:\n",
    "        y, y_pred, groups = [\n",
    "            pd.Series(np.squeeze(data), name=name)\n",
    "            for name, data in [(\"y\", y), (\"y_pred\", y_pred), (\"groups\", groups)]\n",
    "        ]\n",
    "        X_groups = pd.concat([y, y_pred], axis=1).groupby(groups)\n",
    "        X_g1, X_g2 = X_groups.get_group(1), X_groups.get_group(2)\n",
    "\n",
    "        cross_pairs = X_g1.merge(X_g2, how=\"cross\", suffixes=[\"1\", \"2\"])\n",
    "        assert len(cross_pairs) == len(X_g1) * len(X_g2)\n",
    "\n",
    "        df = cross_pairs\n",
    "        fairness += np.mean((df[\"y1\"] == df[\"y2\"]) * (df[\"y_pred1\"] - df[\"y_pred2\"])**2)\n",
    "    return fairness\n",
    "\n",
    "\n",
    "def compute_gradient(beta, X, y, groups, _lambda, _gamma):\n",
    "    \"\"\"Calculate the gradient - used for finding the best beta values.\n",
    "    You do not need to use groups and lambda (fmin_tnc expects same input as in func, that's why they are included here)\"\"\"\n",
    "    y_pred = predict(X, beta)\n",
    "\n",
    "    grad = 1/len(y) * ((y_pred - y) @ X)\n",
    "    grad[1:] += 2 * _gamma * beta[1:]\n",
    "    assert grad.shape == beta.shape, \"gradient shape doesnt match beta shape\"\n",
    "    return grad\n",
    "\n",
    "\n",
    "def compute_cost(beta, X, y, groups, _lambda, _gamma):\n",
    "    \"\"\"Computes cost function with constraints\"\"\"\n",
    "    y_pred = predict(X, beta)\n",
    "\n",
    "    loss = logistic_loss(y, y_pred) + _gamma*l2_loss(beta) # + _lambda*group_fair_loss(y, y_pred, groups)\n",
    "    return loss\n",
    "\n",
    "\n",
    "def predict(X, beta):\n",
    "    return sigmoid(X @ beta)\n",
    "\n",
    "class LogReg(BaseEstimator):\n",
    "    def __init__(self, gamma, lambda_):\n",
    "        self.gamma = gamma\n",
    "        self.lambda_ = lambda_\n",
    "        self.scaler = StandardScaler().set_output(transform='pandas')\n",
    "\n",
    "    def _add_bias(self, X_train):\n",
    "        bias = pd.Series(np.ones_like(X_train[X_train.columns[0]]), name=\"bias\", index=X_train.index, dtype=float)\n",
    "        return pd.concat([bias, X_train], axis=1)\n",
    "    \n",
    "    def fit(self, X_train, y_train):\n",
    "        X_train = self.scaler.fit_transform(X_train)\n",
    "        X_train = self._add_bias(X_train)\n",
    "\n",
    "        X = X_train.values\n",
    "        y = y_train.astype(float).squeeze().values\n",
    "        train_func = lambda: opt.fmin_tnc(\n",
    "            func=compute_cost,\n",
    "            x0=self.init_beta,\n",
    "            fprime=compute_gradient,\n",
    "            #approx_grad=True,\n",
    "            maxfun=500,\n",
    "            args=(X, y, groups.values, self.lambda_, self.gamma),\n",
    "            ftol=1e-5,\n",
    "        )\n",
    "\n",
    "        for i in range(5):\n",
    "            self.init_beta = np.random.rand(len(X_train.columns))\n",
    "\n",
    "            self.beta, _, state = train_func()\n",
    "\n",
    "            weights_changed = np.abs(self.beta - self.init_beta).max() > 1e-6\n",
    "            if state in [0, 1, 2] and weights_changed:\n",
    "                break\n",
    "\n",
    "            elif i == 4:\n",
    "                self.beta = np.array([np.nan]*len(self.beta))\n",
    "                print(f'failed {state = } {weights_changed = }')\n",
    "\n",
    "    \n",
    "    def predict(self, X_train):\n",
    "        X_train = self.scaler.transform(X_train)\n",
    "        X_train = self._add_bias(X_train)\n",
    "        return predict(X_train.values, self.beta).round()\n",
    "    \n",
    "    def score(self, X_train, y_train):\n",
    "        X_train = self.scaler.transform(X_train)\n",
    "        X_train = self._add_bias(X_train)\n",
    "        X = X_train.values\n",
    "        y = y_train.astype(float).squeeze().values\n",
    "        return -compute_cost(self.beta, X, y, groups.values, self.lambda_, self.gamma)\n",
    "\n",
    "# Check all functions work\n",
    "clf = LogReg(gamma=1e-5, lambda_=10000)\n",
    "clf.fit(X_train, y_train)\n",
    "(clf.predict(X_train) == y_train.squeeze()).mean()"
   ]
  },
  {
   "attachments": {},
   "cell_type": "markdown",
   "metadata": {},
   "source": [
    "### Use Cross-Validation to find the most optimal value for L2-penalty (you should implement it yourself).\n"
   ]
  },
  {
   "attachments": {},
   "cell_type": "markdown",
   "metadata": {},
   "source": [
    "#### Task 2.2.\n",
    "Use the following arguments in the `opt.fmin_funct`: `xtol=1e-4, ftol=1e-4,  maxfun=1000`"
   ]
  },
  {
   "cell_type": "code",
   "execution_count": 337,
   "metadata": {},
   "outputs": [
    {
     "name": "stdout",
     "output_type": "stream",
     "text": [
      "Fitting 5 folds for each of 5 candidates, totalling 25 fits\n"
     ]
    },
    {
     "data": {
      "text/plain": [
       "{'mean_fit_time': array([0.15320292, 0.12959805, 0.07620015, 0.04519925, 0.02419782]),\n",
       " 'std_fit_time': array([0.03980718, 0.03646323, 0.00676422, 0.0052711 , 0.00264045]),\n",
       " 'mean_score_time': array([0.00499806, 0.0066021 , 0.00539989, 0.00499988, 0.00339956]),\n",
       " 'std_score_time': array([0.00063068, 0.0013573 , 0.0007998 , 0.00109445, 0.00135639]),\n",
       " 'param_gamma': masked_array(data=[1e-05, 0.0001, 0.001, 0.01, 0.1],\n",
       "              mask=[False, False, False, False, False],\n",
       "        fill_value='?',\n",
       "             dtype=object),\n",
       " 'param_lambda_': masked_array(data=[10000.0, 10000.0, 10000.0, 10000.0, 10000.0],\n",
       "              mask=[False, False, False, False, False],\n",
       "        fill_value='?',\n",
       "             dtype=object),\n",
       " 'params': [{'gamma': 1e-05, 'lambda_': 10000.0},\n",
       "  {'gamma': 0.0001, 'lambda_': 10000.0},\n",
       "  {'gamma': 0.001, 'lambda_': 10000.0},\n",
       "  {'gamma': 0.01, 'lambda_': 10000.0},\n",
       "  {'gamma': 0.1, 'lambda_': 10000.0}],\n",
       " 'split0_test_score': array([-0.44327007, -0.44384852, -0.44678343, -0.46299713, -0.52184524]),\n",
       " 'split1_test_score': array([-0.39880751, -0.39903478, -0.40139725, -0.42116698, -0.49707296]),\n",
       " 'split2_test_score': array([-0.39369636, -0.39317942, -0.3949959 , -0.41454559, -0.48910987]),\n",
       " 'split3_test_score': array([-0.4400018 , -0.4313217 , -0.42563205, -0.4361385 , -0.50357569]),\n",
       " 'split4_test_score': array([-0.38632694, -0.38653558, -0.3892503 , -0.41182529, -0.49240393]),\n",
       " 'mean_test_score': array([-0.41242054, -0.410784  , -0.41161179, -0.4293347 , -0.50080154]),\n",
       " 'std_test_score': array([0.02420415, 0.02258766, 0.02151313, 0.01882264, 0.01159009]),\n",
       " 'rank_test_score': array([3, 1, 2, 4, 5])}"
      ]
     },
     "execution_count": 337,
     "metadata": {},
     "output_type": "execute_result"
    }
   ],
   "source": [
    "gammas = [10**i for i in (-5, -4, -3, -2, -1)]\n",
    "lambdas = [1e4] #[10**i for i in range(1, 5+1)]\n",
    "cv = GridSearchCV(\n",
    "    estimator=clf,\n",
    "    param_grid={\"gamma\": gammas, \"lambda_\": lambdas},\n",
    "    verbose=2,\n",
    "    n_jobs=-1\n",
    ")\n",
    "cv.fit(X_train, y_train.squeeze())\n",
    "cv.cv_results_"
   ]
  },
  {
   "cell_type": "code",
   "execution_count": 338,
   "metadata": {},
   "outputs": [
    {
     "data": {
      "text/html": [
       "<div>\n",
       "<style scoped>\n",
       "    .dataframe tbody tr th:only-of-type {\n",
       "        vertical-align: middle;\n",
       "    }\n",
       "\n",
       "    .dataframe tbody tr th {\n",
       "        vertical-align: top;\n",
       "    }\n",
       "\n",
       "    .dataframe thead th {\n",
       "        text-align: right;\n",
       "    }\n",
       "</style>\n",
       "<table border=\"1\" class=\"dataframe\">\n",
       "  <thead>\n",
       "    <tr style=\"text-align: right;\">\n",
       "      <th></th>\n",
       "      <th>1</th>\n",
       "    </tr>\n",
       "  </thead>\n",
       "  <tbody>\n",
       "    <tr>\n",
       "      <th>mean_fit_time</th>\n",
       "      <td>0.129598</td>\n",
       "    </tr>\n",
       "    <tr>\n",
       "      <th>std_fit_time</th>\n",
       "      <td>0.036463</td>\n",
       "    </tr>\n",
       "    <tr>\n",
       "      <th>mean_score_time</th>\n",
       "      <td>0.006602</td>\n",
       "    </tr>\n",
       "    <tr>\n",
       "      <th>std_score_time</th>\n",
       "      <td>0.001357</td>\n",
       "    </tr>\n",
       "    <tr>\n",
       "      <th>param_gamma</th>\n",
       "      <td>0.0001</td>\n",
       "    </tr>\n",
       "    <tr>\n",
       "      <th>param_lambda_</th>\n",
       "      <td>10000.0</td>\n",
       "    </tr>\n",
       "    <tr>\n",
       "      <th>params</th>\n",
       "      <td>{'gamma': 0.0001, 'lambda_': 10000.0}</td>\n",
       "    </tr>\n",
       "    <tr>\n",
       "      <th>split0_test_score</th>\n",
       "      <td>-0.443849</td>\n",
       "    </tr>\n",
       "    <tr>\n",
       "      <th>split1_test_score</th>\n",
       "      <td>-0.399035</td>\n",
       "    </tr>\n",
       "    <tr>\n",
       "      <th>split2_test_score</th>\n",
       "      <td>-0.393179</td>\n",
       "    </tr>\n",
       "    <tr>\n",
       "      <th>split3_test_score</th>\n",
       "      <td>-0.431322</td>\n",
       "    </tr>\n",
       "    <tr>\n",
       "      <th>split4_test_score</th>\n",
       "      <td>-0.386536</td>\n",
       "    </tr>\n",
       "    <tr>\n",
       "      <th>mean_test_score</th>\n",
       "      <td>-0.410784</td>\n",
       "    </tr>\n",
       "    <tr>\n",
       "      <th>std_test_score</th>\n",
       "      <td>0.022588</td>\n",
       "    </tr>\n",
       "    <tr>\n",
       "      <th>rank_test_score</th>\n",
       "      <td>1</td>\n",
       "    </tr>\n",
       "    <tr>\n",
       "      <th>gamma</th>\n",
       "      <td>0.0001</td>\n",
       "    </tr>\n",
       "    <tr>\n",
       "      <th>lambda_</th>\n",
       "      <td>10000.0</td>\n",
       "    </tr>\n",
       "  </tbody>\n",
       "</table>\n",
       "</div>"
      ],
      "text/plain": [
       "                                                       1\n",
       "mean_fit_time                                   0.129598\n",
       "std_fit_time                                    0.036463\n",
       "mean_score_time                                 0.006602\n",
       "std_score_time                                  0.001357\n",
       "param_gamma                                       0.0001\n",
       "param_lambda_                                    10000.0\n",
       "params             {'gamma': 0.0001, 'lambda_': 10000.0}\n",
       "split0_test_score                              -0.443849\n",
       "split1_test_score                              -0.399035\n",
       "split2_test_score                              -0.393179\n",
       "split3_test_score                              -0.431322\n",
       "split4_test_score                              -0.386536\n",
       "mean_test_score                                -0.410784\n",
       "std_test_score                                  0.022588\n",
       "rank_test_score                                        1\n",
       "gamma                                             0.0001\n",
       "lambda_                                          10000.0"
      ]
     },
     "execution_count": 338,
     "metadata": {},
     "output_type": "execute_result"
    }
   ],
   "source": [
    "df = pd.DataFrame(cv.cv_results_)\n",
    "df = pd.concat((df, df.params.apply(pd.Series)), axis=1)\n",
    "df = df.sort_values('rank_test_score')\n",
    "df.head(1).T"
   ]
  },
  {
   "cell_type": "code",
   "execution_count": 361,
   "metadata": {},
   "outputs": [],
   "source": [
    "from sklearn.metrics import matthews_corrcoef\n",
    "matthews_corrcoef(cv.predict(X_test), y_test)\n",
    "def resample_matthews(df):\n",
    "    df = df.sample(frac=1.00, replace=True)\n",
    "    y_pred = cv.predict(df[X_test.columns])\n",
    "    y = df[y_test.columns]\n",
    "    return matthews_corrcoef(y, y_pred)\n",
    "full_test_df = pd.concat([X_test, group_test, y_test], axis=1)\n",
    "\n",
    "results = [[resample_matthews(full_test_df), full_test_df.groupby(group_test.columns.tolist()).apply(resample_matthews)] for _ in range(1000)]"
   ]
  },
  {
   "cell_type": "code",
   "execution_count": 362,
   "metadata": {},
   "outputs": [
    {
     "data": {
      "text/plain": [
       "0.05    0.524675\n",
       "0.50    0.544922\n",
       "0.95    0.564923\n",
       "Name: 95% CI, dtype: float64"
      ]
     },
     "execution_count": 362,
     "metadata": {},
     "output_type": "execute_result"
    }
   ],
   "source": [
    "overall, individual = zip(*results)\n",
    "pd.Series(overall).quantile([.05, .50, .95]).rename('95% CI')"
   ]
  },
  {
   "cell_type": "code",
   "execution_count": 371,
   "metadata": {},
   "outputs": [
    {
     "data": {
      "text/html": [
       "<div>\n",
       "<style scoped>\n",
       "    .dataframe tbody tr th:only-of-type {\n",
       "        vertical-align: middle;\n",
       "    }\n",
       "\n",
       "    .dataframe tbody tr th {\n",
       "        vertical-align: top;\n",
       "    }\n",
       "\n",
       "    .dataframe thead tr th {\n",
       "        text-align: left;\n",
       "    }\n",
       "</style>\n",
       "<table border=\"1\" class=\"dataframe\">\n",
       "  <thead>\n",
       "    <tr>\n",
       "      <th>SEX</th>\n",
       "      <th colspan=\"2\" halign=\"left\">1</th>\n",
       "      <th colspan=\"2\" halign=\"left\">2</th>\n",
       "    </tr>\n",
       "    <tr>\n",
       "      <th>RAC1P</th>\n",
       "      <th>1</th>\n",
       "      <th>2</th>\n",
       "      <th>1</th>\n",
       "      <th>2</th>\n",
       "    </tr>\n",
       "  </thead>\n",
       "  <tbody>\n",
       "    <tr>\n",
       "      <th>0.05</th>\n",
       "      <td>0.522186</td>\n",
       "      <td>0.571435</td>\n",
       "      <td>0.472710</td>\n",
       "      <td>0.477744</td>\n",
       "    </tr>\n",
       "    <tr>\n",
       "      <th>0.50</th>\n",
       "      <td>0.556868</td>\n",
       "      <td>0.683453</td>\n",
       "      <td>0.505189</td>\n",
       "      <td>0.586937</td>\n",
       "    </tr>\n",
       "    <tr>\n",
       "      <th>0.95</th>\n",
       "      <td>0.586648</td>\n",
       "      <td>0.775374</td>\n",
       "      <td>0.536416</td>\n",
       "      <td>0.695217</td>\n",
       "    </tr>\n",
       "  </tbody>\n",
       "</table>\n",
       "</div>"
      ],
      "text/plain": [
       "SEX           1                   2          \n",
       "RAC1P         1         2         1         2\n",
       "0.05   0.522186  0.571435  0.472710  0.477744\n",
       "0.50   0.556868  0.683453  0.505189  0.586937\n",
       "0.95   0.586648  0.775374  0.536416  0.695217"
      ]
     },
     "execution_count": 371,
     "metadata": {},
     "output_type": "execute_result"
    }
   ],
   "source": [
    "pd.concat(individual, axis=1).quantile([.05, .50, .95], axis=1)"
   ]
  },
  {
   "cell_type": "code",
   "execution_count": 386,
   "metadata": {},
   "outputs": [
    {
     "data": {
      "text/plain": [
       "SEX  RAC1P\n",
       "1    1        0.840359\n",
       "     2        0.846715\n",
       "2    1        0.773109\n",
       "     2        0.811321\n",
       "Name: Statistical parity, dtype: float64"
      ]
     },
     "execution_count": 386,
     "metadata": {},
     "output_type": "execute_result"
    }
   ],
   "source": [
    "groups = group_test.assign(y_pred=cv.predict(X_test), y_true=y_test).groupby(group_test.columns.tolist())\n",
    "groups.apply(lambda x: np.mean(x.y_pred == x.y_true)).rename('Statistical parity')"
   ]
  },
  {
   "attachments": {},
   "cell_type": "markdown",
   "metadata": {},
   "source": [
    "#### Task 2.3\n",
    "Use the following arguments in the `opt.fmin_funct`: ` xtol=1e-3, ftol=1e-3, approx_grad=True, maxfun=1000`"
   ]
  },
  {
   "cell_type": "code",
   "execution_count": 269,
   "metadata": {},
   "outputs": [],
   "source": [
    "lambdas = np.array([1e-3, 5e-3, 1e-2, 5e-2, 0.1, 1])\n",
    "###########\n",
    "# YOUR CODE\n",
    "###########"
   ]
  },
  {
   "attachments": {},
   "cell_type": "markdown",
   "metadata": {},
   "source": [
    "#### Task 2.4\n",
    "Use Standard PCA on non-protected features.\n",
    "• Do not forget to normalise data before applying Fair PCA.\n",
    "• Use Ncomponents = Nfeatures − Nprotected groups, you have 4 protected groups.\n",
    "• Look at the correlations between the new dimensions and original protected features (use\n",
    "either Pearson’s or Spearman’s coefficient). What do you see?\n",
    "Use Standard PCA on non-protected features."
   ]
  },
  {
   "cell_type": "code",
   "execution_count": 378,
   "metadata": {},
   "outputs": [],
   "source": [
    "from sklearn.decomposition import PCA\n",
    "scaler = StandardScaler().set_output(transform='pandas')\n",
    "pca = PCA(n_components=len(X_train.columns) - 6).set_output(transform='pandas')\n",
    "\n",
    "protected_start = -2\n",
    "X = scaler.fit_transform(X_train.iloc[:, :protected_start])\n",
    "X_pca = pca.fit_transform(X)"
   ]
  },
  {
   "cell_type": "code",
   "execution_count": 379,
   "metadata": {},
   "outputs": [
    {
     "data": {
      "image/png": "[encoded data removed]",
      "text/plain": [
       "<Figure size 1500x1500 with 2 Axes>"
      ]
     },
     "metadata": {},
     "output_type": "display_data"
    }
   ],
   "source": [
    "from itertools import product\n",
    "from scipy.stats import pearsonr\n",
    "import matplotlib.pyplot as plt\n",
    "import seaborn\n",
    "\n",
    "def correlation_matrix(X_, group):\n",
    "    corrected_alpha = 0.05 / (len(X_.columns)*len(group.columns))\n",
    "\n",
    "    corr = np.zeros((X_.shape[1], group.shape[1]))\n",
    "    p = np.zeros((X_.shape[1], group.shape[1]))\n",
    "\n",
    "    for (idx1, col1), (idx2, col2) in product(enumerate(X_.T.values), enumerate(group.T.values)):\n",
    "        correlation, p_val = pearsonr(col1, col2)\n",
    "        corr[idx1, idx2] = correlation\n",
    "        p[idx1, idx2] = p_val\n",
    "\n",
    "    plt.figure(figsize=(15,15))\n",
    "    seaborn.heatmap(corr, mask=p > corrected_alpha)\n",
    "    plt.show()\n",
    "correlation_matrix(X_pca, group_train)"
   ]
  },
  {
   "attachments": {},
   "cell_type": "markdown",
   "metadata": {},
   "source": [
    "#### Project your test data with Standard PCA, and then project it back into the original space.\n",
    "• Calculate the reconstruction error for each sample.\n",
    "• Look at the reconstruction error per each protected group. What do you see?\n"
   ]
  },
  {
   "cell_type": "code",
   "execution_count": 398,
   "metadata": {},
   "outputs": [
    {
     "data": {
      "text/plain": [
       "'reconstruction_rmse(X_test) = 0.24509474030380132'"
      ]
     },
     "metadata": {},
     "output_type": "display_data"
    },
    {
     "data": {
      "text/plain": [
       "SEX  RAC1P\n",
       "1    1        0.248911\n",
       "     2        0.271248\n",
       "2    1        0.244437\n",
       "     2        0.149675\n",
       "Name: reconstruction_RMSE, dtype: float64"
      ]
     },
     "metadata": {},
     "output_type": "display_data"
    }
   ],
   "source": [
    "def reconstruction_rmse(data):\n",
    "    data = scaler.transform(data[X.columns])\n",
    "    data_reconstructed = pca.inverse_transform(pca.transform(data))\n",
    "    rmse = ((data - data_reconstructed)**2).sum(axis=1).mean()**0.5\n",
    "    return rmse\n",
    "groups = pd.concat([X_test, group_test], axis=1).groupby(group_test.columns.to_list())\n",
    "display(f'{reconstruction_rmse(X_test) = }', groups.apply(reconstruction_rmse).rename('reconstruction_RMSE'))"
   ]
  },
  {
   "attachments": {},
   "cell_type": "markdown",
   "metadata": {},
   "source": [
    "#### 3. Implement Fair PCA (refer to Lecture 7 Exercises).\n",
    "• Do not forget to normalise data before applying Fair PCA.\n",
    "• Use Ncomponents = Nfeatures − Nprotected groups, you have 4 protected groups).\n",
    "• Look at the correlations between the new dimensions and original protected features. How\n",
    "does results compare to the Standard PCA?\n"
   ]
  },
  {
   "cell_type": "code",
   "execution_count": 387,
   "metadata": {},
   "outputs": [
    {
     "name": "stderr",
     "output_type": "stream",
     "text": [
      "C:\\Users\\Christoffer\\AppData\\Local\\Packages\\PythonSoftwareFoundation.Python.3.10_qbz5n2kfra8p0\\LocalCache\\local-packages\\Python310\\site-packages\\seaborn\\matrix.py:202: RuntimeWarning: All-NaN slice encountered\n",
      "  vmin = np.nanmin(calc_data)\n",
      "C:\\Users\\Christoffer\\AppData\\Local\\Packages\\PythonSoftwareFoundation.Python.3.10_qbz5n2kfra8p0\\LocalCache\\local-packages\\Python310\\site-packages\\seaborn\\matrix.py:207: RuntimeWarning: All-NaN slice encountered\n",
      "  vmax = np.nanmax(calc_data)\n"
     ]
    },
    {
     "data": {
      "image/png": "[encoded data removed]",
      "text/plain": [
       "<Figure size 1500x1500 with 2 Axes>"
      ]
     },
     "metadata": {},
     "output_type": "display_data"
    }
   ],
   "source": [
    "from scipy.linalg import null_space, eig, inv\n",
    "\n",
    "Z = group_train\n",
    "R = null_space(Z.T @ X)\n",
    "Λ = R.T@X.T@X@R\n",
    "eigenvals, L = eig(Λ)\n",
    "U = R@L[:, :-20]\n",
    "X_fair = X@U\n",
    "\n",
    "correlation_matrix(X_fair, group_train)"
   ]
  },
  {
   "cell_type": "markdown",
   "metadata": {},
   "source": [
    "#### 4. Project your test data with Fair PCA, and then project it back into the original space.\n",
    "• Calculate the reconstruction error for each sample.\n",
    "• Look at the reconstruction error per each protected group. What do you see? Are there any\n",
    "differences compared to the Standard PCA?"
   ]
  },
  {
   "cell_type": "code",
   "execution_count": 419,
   "metadata": {},
   "outputs": [
    {
     "data": {
      "text/plain": [
       "'reconstruction_rmse(X_test) = 0.24509474030380132'"
      ]
     },
     "metadata": {},
     "output_type": "display_data"
    },
    {
     "data": {
      "text/plain": [
       "SEX  RAC1P\n",
       "1    1        1.793978\n",
       "     2        1.887433\n",
       "2    1        1.755967\n",
       "     2        1.956534\n",
       "Name: Reconstruction RMSE, dtype: float64"
      ]
     },
     "metadata": {},
     "output_type": "display_data"
    }
   ],
   "source": [
    "def RMSE(error):\n",
    "    return error.values.mean()**0.5\n",
    "\n",
    "X_fair = X@U\n",
    "reconstruction = X_fair @ U.T\n",
    "cost = ((reconstruction.values - X)**2)\n",
    "overall_cost = RMSE(cost)\n",
    "\n",
    "groups = pd.concat([X_test, group_test], axis=1).groupby(group_test.columns.to_list())\n",
    "\n",
    "display(f'{reconstruction_rmse(X_test) = }', groups.apply(lambda x: RMSE(x)).rename('Reconstruction RMSE'))"
   ]
  },
  {
   "cell_type": "code",
   "execution_count": 423,
   "metadata": {},
   "outputs": [
    {
     "data": {
      "text/plain": [
       "0.3682037297335374"
      ]
     },
     "execution_count": 423,
     "metadata": {},
     "output_type": "execute_result"
    }
   ],
   "source": [
    "from sklearn.metrics import mean_squared_error\n",
    "mean_squared_error(X, reconstruction)"
   ]
  }
 ],
 "metadata": {
  "kernelspec": {
   "display_name": "graph",
   "language": "python",
   "name": "python3"
  },
  "language_info": {
   "codemirror_mode": {
    "name": "ipython",
    "version": 3
   },
   "file_extension": ".py",
   "mimetype": "text/x-python",
   "name": "python",
   "nbconvert_exporter": "python",
   "pygments_lexer": "ipython3",
   "version": "3.10.10"
  },
  "orig_nbformat": 4
 },
 "nbformat": 4,
 "nbformat_minor": 2
}
