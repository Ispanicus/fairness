{
 "cells": [
  {
   "attachments": {},
   "cell_type": "markdown",
   "metadata": {},
   "source": [
    "# Algoithmic Fairness, Accountability and Ethics\n",
    "## Assignment 2 (Template)"
   ]
  },
  {
   "cell_type": "code",
   "execution_count": 77,
   "metadata": {},
   "outputs": [],
   "source": [
    "from folktables import ACSDataSource, BasicProblem, generate_categories\n",
    "import numpy as np\n",
    "import scipy.optimize as opt"
   ]
  },
  {
   "attachments": {},
   "cell_type": "markdown",
   "metadata": {},
   "source": [
    "### 1. Load and Preprocess the data\n",
    "We are going to work with the [Folktables](https://github.com/socialfoundations/folktables#quick-start-examples) dataset (*you have already worked with it*).\n",
    "\n",
    "1. As last week, we are still predicting the *Total person's income*  (I've digitized  it in  `target_transform=lambda x: x > 25000`).\n",
    "2. Today, we are going to implement two methods for data debiasing: [Fair PCA](https://deepai.org/publication/efficient-fair-pca-for-fair-representation-learning) and [A Geometric Solution to Fair Representations](https://dl.acm.org/doi/10.1145/3375627.3375864).\n",
    "3. We are going to evaluate the performance on two sensitive features: `SEX` (i.e. *Males* and *Females*) and `RAC1P` (we will consider only *Whites* and *African-Americans*)\n",
    "4. I updated the filtering method `adult_filter` to keep the specified groups."
   ]
  },
  {
   "cell_type": "code",
   "execution_count": 78,
   "metadata": {},
   "outputs": [],
   "source": [
    "data_source = ACSDataSource(survey_year='2018', horizon='1-Year', survey='person')\n",
    "acs_data = data_source.get_data(states=[\"CA\"], download=True)\n",
    "\n",
    "def adult_filter(data):\n",
    "    \"\"\"Mimic the filters in place for Adult data.\n",
    "    Adult documentation notes: Extraction was done by Barry Becker from\n",
    "    the 1994 Census database. A set of reasonably clean records was extracted\n",
    "    using the following conditions:\n",
    "    ((AAGE>16) && (AGI>100) && (AFNLWGT>1)&& (HRSWK>0))\n",
    "    \"\"\"\n",
    "    df = data\n",
    "    df = df[df['AGEP'] > 16]\n",
    "    df = df[df['PINCP'] > 100]\n",
    "    df = df[df['WKHP'] > 0]\n",
    "    df = df[df['PWGTP'] >= 1]\n",
    "    df = df[df[\"RAC1P\"] < 3] ## keep only Whites and African-Americans\n",
    "    return df\n",
    "\n",
    "\n",
    "ACSIncomeNew = BasicProblem(\n",
    "    features=[\n",
    "        'AGEP',\n",
    "        'COW',\n",
    "        'SCHL',\n",
    "        'MAR',\n",
    "        'CIT',\n",
    "        'RELP',\n",
    "        'WKHP',\n",
    "        'PWGTP',\n",
    "        'SEX',\n",
    "        'RAC1P'\n",
    "    ],\n",
    "    target='PINCP',\n",
    "    target_transform=lambda x: x > 25000,    \n",
    "    group=['SEX', \"RAC1P\"],\n",
    "    preprocess=adult_filter,\n",
    "    postprocess=lambda x: np.nan_to_num(x, -1),\n",
    ")"
   ]
  },
  {
   "attachments": {},
   "cell_type": "markdown",
   "metadata": {},
   "source": [
    "## Task 1"
   ]
  },
  {
   "cell_type": "code",
   "execution_count": 79,
   "metadata": {},
   "outputs": [],
   "source": [
    "######\n",
    "## YOUR CODE\n",
    "#####"
   ]
  },
  {
   "cell_type": "markdown",
   "metadata": {},
   "source": [
    "## Task 2"
   ]
  },
  {
   "cell_type": "markdown",
   "metadata": {},
   "source": [
    "### Convert categorical to one-hot encoding"
   ]
  },
  {
   "cell_type": "code",
   "execution_count": 80,
   "metadata": {},
   "outputs": [],
   "source": [
    "definition_df = data_source.get_definitions(download=True)\n",
    "_categories = generate_categories(features=ACSIncomeNew.features, definition_df=definition_df)\n",
    "_all_features, _labels, _groups = ACSIncomeNew.df_to_pandas(acs_data, categories=_categories, dummies=True)\n",
    "### groups now contain information about SEX and RAC1P"
   ]
  },
  {
   "cell_type": "code",
   "execution_count": 81,
   "metadata": {},
   "outputs": [
    {
     "name": "stdout",
     "output_type": "stream",
     "text": [
      "Columns with the protected features:\n",
      "Column ID: 57 (SEX_Female)\n",
      "Column ID: 58 (RAC1P_Black or African American alone)\n"
     ]
    }
   ],
   "source": [
    "# Drop the \"redundant\" columns\n",
    "_features = _all_features.drop([\"RELP_Unmarried partner\",\n",
    "                          \"CIT_U.S. citizen by naturalization\",\n",
    "                          \"SEX_Male\",\n",
    "                          \"SCHL_1 or more years of college credit, no degree\",  \n",
    "                          \"MAR_Divorced\", \n",
    "                          \"RELP_Adopted son or daughter\",\n",
    "                          'COW_Working without pay in family business or farm', \n",
    "                          \"RAC1P_White alone\" ], axis = 1) \n",
    "\n",
    "print(\"Columns with the protected features:\")\n",
    "for i, f in enumerate(_features.columns):\n",
    "    if (\"RAC1P\" in f) or (\"SEX\" in f):\n",
    "        print(\"Column ID: %s\" %i, \"(%s)\"%f)"
   ]
  },
  {
   "cell_type": "code",
   "execution_count": 82,
   "metadata": {},
   "outputs": [],
   "source": [
    "from sklearn.model_selection import train_test_split"
   ]
  },
  {
   "cell_type": "code",
   "execution_count": 174,
   "metadata": {},
   "outputs": [],
   "source": [
    "X_train, X_test, y_train, y_test, group_train, group_test = train_test_split(\n",
    "    _features, _labels, _groups, test_size=0.3, random_state=0, shuffle=True)\n",
    "\n",
    "N = 500 ### I am subsampling because it is slow on my machine\n",
    "\n",
    "X_train = X_train[:N]\n",
    "y_train = y_train[:N]\n",
    "group_train = group_train[:N]\n",
    "X_test = X_test[:N]\n",
    "y_test = y_test[:N]\n",
    "group_test = group_test[:N]\n",
    "\n",
    "full_train = pd.concat([X_train, group_train], axis=1)\n",
    "full_test = pd.concat([X_test, group_test], axis=1)\n",
    "\n",
    "X_cols = X_train.columns.to_list()\n",
    "group_cols = group_train.columns.to_list()\n",
    "feature_cols = X_cols[:-2]\n",
    "\n",
    "not_x_cols = ['RAC1P_Black or African American alone', 'SEX_Female'] + group_cols"
   ]
  },
  {
   "attachments": {},
   "cell_type": "markdown",
   "metadata": {},
   "source": [
    "### Build your own implementation of the Logistic Regression with L2-penalty (aka Ridge Regression)."
   ]
  },
  {
   "cell_type": "code",
   "execution_count": 213,
   "metadata": {},
   "outputs": [
    {
     "name": "stderr",
     "output_type": "stream",
     "text": [
      "C:\\Users\\Christoffer\\AppData\\Local\\Temp\\ipykernel_4856\\2144951800.py:18: RuntimeWarning: overflow encountered in exp\n",
      "  return 1 / (1 + np.exp(-x+eps))\n"
     ]
    },
    {
     "data": {
      "text/plain": [
       "0.836"
      ]
     },
     "execution_count": 213,
     "metadata": {},
     "output_type": "execute_result"
    }
   ],
   "source": [
    "from sklearn.preprocessing import MinMaxScaler\n",
    "from sklearn.base import BaseEstimator\n",
    "from sklearn.preprocessing import MinMaxScaler, OneHotEncoder, StandardScaler\n",
    "from sklearn.pipeline import make_pipeline\n",
    "from sklearn.linear_model import LogisticRegression\n",
    "from sklearn.model_selection import GridSearchCV\n",
    "from sklearn.impute import SimpleImputer\n",
    "from sklearn.compose import ColumnTransformer\n",
    "import sklearn\n",
    "import pandas as pd\n",
    "\n",
    "def sigmoid(x, eps=1e-10):\n",
    "    \"\"\"\n",
    "    This is logistic regression\n",
    "    f = 1/(1+exp(-beta^T * x))\n",
    "    This function assumes as input that you have already multiplied beta and X together\n",
    "    \"\"\"\n",
    "    return 1 / (1 + np.exp(-x+eps))\n",
    "\n",
    "\n",
    "def logistic_loss(y_true, y_pred, eps=1e-10):\n",
    "    \"\"\"\n",
    "    Loss for the logistic regression, y_preds are probabilities\n",
    "    eps: epsilon for stability\n",
    "    \"\"\"\n",
    "    return np.mean(\n",
    "        -y_true * np.log(y_pred+eps) - (1 - y_true) * np.log(1 - y_pred+eps)\n",
    "    )\n",
    "\n",
    "\n",
    "def l2_loss(beta):\n",
    "    \"\"\"\n",
    "    L2-Regularisation\n",
    "    \"\"\"\n",
    "    return np.sum(beta[1:]**2)\n",
    "\n",
    "\n",
    "def individual_fairness_loss(y, y_pred, all_groups):\n",
    "    \"\"\"\n",
    "    individual fairness Loss\n",
    "    \"\"\"\n",
    "    fairness = 0\n",
    "    for groups in all_groups.T:\n",
    "\n",
    "        y, y_pred, groups = [\n",
    "            pd.Series(np.squeeze(data), name=name)\n",
    "            for name, data in [(\"y\", y), (\"y_pred\", y_pred), (\"groups\", groups)]\n",
    "        ]\n",
    "        X_groups = pd.concat([y, y_pred], axis=1).groupby(groups)\n",
    "        X_g1, X_g2 = X_groups.get_group(1), X_groups.get_group(2)\n",
    "\n",
    "        cross_pairs = X_g1.merge(X_g2, how=\"cross\", suffixes=[\"1\", \"2\"])\n",
    "        assert len(cross_pairs) == len(X_g1) * len(X_g2)\n",
    "\n",
    "        df = cross_pairs\n",
    "        fairness += np.mean((df[\"y1\"] == df[\"y2\"]) * (df[\"y_pred1\"] - df[\"y_pred2\"])**2)\n",
    "    return fairness\n",
    "\n",
    "\n",
    "def compute_gradient(beta, X, y, groups, _lambda, _gamma):\n",
    "    \"\"\"Calculate the gradient - used for finding the best beta values.\n",
    "    You do not need to use groups and lambda (fmin_tnc expects same input as in func, that's why they are included here)\"\"\"\n",
    "    y_pred = predict(X, beta)\n",
    "\n",
    "    grad = 1/len(y) * ((y_pred - y) @ X)\n",
    "    grad[1:] += 2 * _gamma * beta[1:]\n",
    "    assert grad.shape == beta.shape, \"gradient shape doesnt match beta shape\"\n",
    "    return grad\n",
    "\n",
    "\n",
    "def compute_cost(beta, X, y, groups, _lambda, _gamma):\n",
    "    \"\"\"Computes cost function with constraints\"\"\"\n",
    "    y_pred = predict(X, beta)\n",
    "\n",
    "    loss = logistic_loss(y, y_pred) + _gamma*l2_loss(beta)# + _lambda*individual_fairness_loss(y, y_pred, groups)\n",
    "    return loss\n",
    "\n",
    "\n",
    "def predict(X, beta):\n",
    "    return sigmoid(X @ beta)\n",
    "\n",
    "class LogReg(BaseEstimator):\n",
    "    def __init__(self, gamma, lambda_):\n",
    "        self.gamma = gamma\n",
    "        self.lambda_ = lambda_\n",
    "        self.scaler = StandardScaler().set_output(transform='pandas')\n",
    "\n",
    "    def _add_bias(self, X_train):\n",
    "        bias = pd.Series(np.ones_like(X_train.shape[1]), name=\"bias\", index=X_train.index, dtype=float)\n",
    "        return pd.concat([bias, X_train], axis=1)\n",
    "    \n",
    "    def fit(self, X_train, y_train):\n",
    "        groups = X_train[group_cols].values\n",
    "        X_train = X_train[[c for c in X_train if c not in group_cols]]\n",
    "\n",
    "        X_train = self.scaler.fit_transform(X_train)\n",
    "        X_train = self._add_bias(X_train)\n",
    "\n",
    "        X = X_train.values\n",
    "        y = y_train.astype(float).squeeze().values\n",
    "        train_func = lambda: opt.fmin_tnc(\n",
    "            func=compute_cost,\n",
    "            x0=self.init_beta,\n",
    "            fprime=compute_gradient,\n",
    "            #approx_grad=True,\n",
    "            maxfun=500,\n",
    "            args=(X, y, groups, self.lambda_, self.gamma),\n",
    "            ftol=1e-5,\n",
    "        )\n",
    "\n",
    "        TRIES = 1\n",
    "        for i in range(TRIES):\n",
    "            self.init_beta = np.random.rand(len(X_train.T))\n",
    "\n",
    "            self.beta, _, state = train_func()\n",
    "\n",
    "            if state in [0, 1, 2]:\n",
    "                break\n",
    "\n",
    "            else:\n",
    "                self.beta = np.array([np.nan]*len(self.beta))\n",
    "                print(f'failed {state = }')\n",
    "\n",
    "    \n",
    "    def predict(self, X_train):\n",
    "        X_train = X_train[[c for c in X_train if c not in group_cols]]\n",
    "        X_train = self.scaler.transform(X_train)\n",
    "        X_train = self._add_bias(X_train)\n",
    "        return predict(X_train.values, self.beta).round()\n",
    "    \n",
    "    def score(self, X_train, y_train):\n",
    "        groups = X_train[group_cols].values\n",
    "        X_train = X_train[[c for c in X_train if c not in group_cols]]\n",
    "\n",
    "        X_train = self.scaler.transform(X_train)\n",
    "        X_train = self._add_bias(X_train)\n",
    "        X = X_train.values\n",
    "        y = y_train.astype(float).squeeze().values\n",
    "        return -compute_cost(self.beta, X, y, groups, self.lambda_, self.gamma)\n",
    "\n",
    "# Check all functions work\n",
    "clf = LogReg(gamma=1e-5, lambda_=1e3)\n",
    "clf.fit(full_train, y_train)\n",
    "(clf.predict(full_train) == y_train.squeeze()).mean()"
   ]
  },
  {
   "attachments": {},
   "cell_type": "markdown",
   "metadata": {},
   "source": [
    "### Use Cross-Validation to find the most optimal value for L2-penalty (you should implement it yourself).\n"
   ]
  },
  {
   "attachments": {},
   "cell_type": "markdown",
   "metadata": {},
   "source": [
    "#### Task 2.2.\n",
    "Use the following arguments in the `opt.fmin_funct`: `xtol=1e-4, ftol=1e-4,  maxfun=1000`"
   ]
  },
  {
   "cell_type": "code",
   "execution_count": 114,
   "metadata": {},
   "outputs": [
    {
     "name": "stdout",
     "output_type": "stream",
     "text": [
      "Fitting 5 folds for each of 5 candidates, totalling 25 fits\n"
     ]
    },
    {
     "data": {
      "text/plain": [
       "{'mean_fit_time': array([0.31663117, 0.28282008, 0.12000942, 0.07836952, 0.04096994]),\n",
       " 'std_fit_time': array([0.08511628, 0.13049128, 0.0267872 , 0.01486377, 0.00353668]),\n",
       " 'mean_score_time': array([0.04320049, 0.03682375, 0.02718425, 0.02477632, 0.01649942]),\n",
       " 'std_score_time': array([0.01395268, 0.01999734, 0.0119586 , 0.00817943, 0.01243882]),\n",
       " 'param_gamma': masked_array(data=[1e-05, 0.0001, 0.001, 0.01, 0.1],\n",
       "              mask=[False, False, False, False, False],\n",
       "        fill_value='?',\n",
       "             dtype=object),\n",
       " 'param_lambda_': masked_array(data=[10000.0, 10000.0, 10000.0, 10000.0, 10000.0],\n",
       "              mask=[False, False, False, False, False],\n",
       "        fill_value='?',\n",
       "             dtype=object),\n",
       " 'params': [{'gamma': 1e-05, 'lambda_': 10000.0},\n",
       "  {'gamma': 0.0001, 'lambda_': 10000.0},\n",
       "  {'gamma': 0.001, 'lambda_': 10000.0},\n",
       "  {'gamma': 0.01, 'lambda_': 10000.0},\n",
       "  {'gamma': 0.1, 'lambda_': 10000.0}],\n",
       " 'split0_test_score': array([-0.8964332 , -0.76514932, -0.64022257, -0.54594722, -0.53424898]),\n",
       " 'split1_test_score': array([-0.76413984, -0.6803742 , -0.60301452, -0.56235367, -0.5826777 ]),\n",
       " 'split2_test_score': array([-0.59163964, -0.46544232, -0.4369965 , -0.44076317, -0.51894613]),\n",
       " 'split3_test_score': array([-0.71372981, -0.66400735, -0.60882935, -0.57010586, -0.5699012 ]),\n",
       " 'split4_test_score': array([-1.03860814, -0.78413323, -0.65694558, -0.56370516, -0.56231749]),\n",
       " 'mean_test_score': array([-0.80091013, -0.67182128, -0.5892017 , -0.53657502, -0.5536183 ]),\n",
       " 'std_test_score': array([0.15386462, 0.11318179, 0.07865726, 0.0485647 , 0.02350569]),\n",
       " 'rank_test_score': array([5, 4, 3, 1, 2])}"
      ]
     },
     "execution_count": 114,
     "metadata": {},
     "output_type": "execute_result"
    }
   ],
   "source": [
    "gammas = [10**i for i in (-5, -4, -3, -2, -1)]\n",
    "lambdas = [1e4] #[10**i for i in range(1, 5+1)]\n",
    "cv = GridSearchCV(\n",
    "    estimator=clf,\n",
    "    param_grid={\"gamma\": gammas, \"lambda_\": lambdas},\n",
    "    verbose=2,\n",
    "    n_jobs=-1\n",
    ")\n",
    "cv.fit(full_train, y_train.squeeze())\n",
    "cv.cv_results_"
   ]
  },
  {
   "cell_type": "code",
   "execution_count": 87,
   "metadata": {},
   "outputs": [
    {
     "data": {
      "text/html": [
       "<div>\n",
       "<style scoped>\n",
       "    .dataframe tbody tr th:only-of-type {\n",
       "        vertical-align: middle;\n",
       "    }\n",
       "\n",
       "    .dataframe tbody tr th {\n",
       "        vertical-align: top;\n",
       "    }\n",
       "\n",
       "    .dataframe thead th {\n",
       "        text-align: right;\n",
       "    }\n",
       "</style>\n",
       "<table border=\"1\" class=\"dataframe\">\n",
       "  <thead>\n",
       "    <tr style=\"text-align: right;\">\n",
       "      <th></th>\n",
       "      <th>0</th>\n",
       "    </tr>\n",
       "  </thead>\n",
       "  <tbody>\n",
       "    <tr>\n",
       "      <th>mean_fit_time</th>\n",
       "      <td>0.18719</td>\n",
       "    </tr>\n",
       "    <tr>\n",
       "      <th>std_fit_time</th>\n",
       "      <td>0.056694</td>\n",
       "    </tr>\n",
       "    <tr>\n",
       "      <th>mean_score_time</th>\n",
       "      <td>0.056001</td>\n",
       "    </tr>\n",
       "    <tr>\n",
       "      <th>std_score_time</th>\n",
       "      <td>0.052571</td>\n",
       "    </tr>\n",
       "    <tr>\n",
       "      <th>param_gamma</th>\n",
       "      <td>0.00001</td>\n",
       "    </tr>\n",
       "    <tr>\n",
       "      <th>param_lambda_</th>\n",
       "      <td>10000.0</td>\n",
       "    </tr>\n",
       "    <tr>\n",
       "      <th>params</th>\n",
       "      <td>{'gamma': 1e-05, 'lambda_': 10000.0}</td>\n",
       "    </tr>\n",
       "    <tr>\n",
       "      <th>split0_test_score</th>\n",
       "      <td>-0.693311</td>\n",
       "    </tr>\n",
       "    <tr>\n",
       "      <th>split1_test_score</th>\n",
       "      <td>-0.693331</td>\n",
       "    </tr>\n",
       "    <tr>\n",
       "      <th>split2_test_score</th>\n",
       "      <td>-0.693328</td>\n",
       "    </tr>\n",
       "    <tr>\n",
       "      <th>split3_test_score</th>\n",
       "      <td>-0.693342</td>\n",
       "    </tr>\n",
       "    <tr>\n",
       "      <th>split4_test_score</th>\n",
       "      <td>-0.69334</td>\n",
       "    </tr>\n",
       "    <tr>\n",
       "      <th>mean_test_score</th>\n",
       "      <td>-0.69333</td>\n",
       "    </tr>\n",
       "    <tr>\n",
       "      <th>std_test_score</th>\n",
       "      <td>0.000011</td>\n",
       "    </tr>\n",
       "    <tr>\n",
       "      <th>rank_test_score</th>\n",
       "      <td>1</td>\n",
       "    </tr>\n",
       "    <tr>\n",
       "      <th>gamma</th>\n",
       "      <td>0.00001</td>\n",
       "    </tr>\n",
       "    <tr>\n",
       "      <th>lambda_</th>\n",
       "      <td>10000.0</td>\n",
       "    </tr>\n",
       "  </tbody>\n",
       "</table>\n",
       "</div>"
      ],
      "text/plain": [
       "                                                      0\n",
       "mean_fit_time                                   0.18719\n",
       "std_fit_time                                   0.056694\n",
       "mean_score_time                                0.056001\n",
       "std_score_time                                 0.052571\n",
       "param_gamma                                     0.00001\n",
       "param_lambda_                                   10000.0\n",
       "params             {'gamma': 1e-05, 'lambda_': 10000.0}\n",
       "split0_test_score                             -0.693311\n",
       "split1_test_score                             -0.693331\n",
       "split2_test_score                             -0.693328\n",
       "split3_test_score                             -0.693342\n",
       "split4_test_score                              -0.69334\n",
       "mean_test_score                                -0.69333\n",
       "std_test_score                                 0.000011\n",
       "rank_test_score                                       1\n",
       "gamma                                           0.00001\n",
       "lambda_                                         10000.0"
      ]
     },
     "execution_count": 87,
     "metadata": {},
     "output_type": "execute_result"
    }
   ],
   "source": [
    "df = pd.DataFrame(cv.cv_results_)\n",
    "df = pd.concat((df, df.params.apply(pd.Series)), axis=1)\n",
    "df = df.sort_values('rank_test_score')\n",
    "df.head(1).T"
   ]
  },
  {
   "cell_type": "code",
   "execution_count": 116,
   "metadata": {},
   "outputs": [
    {
     "name": "stderr",
     "output_type": "stream",
     "text": [
      "100%|██████████| 1000/1000 [01:30<00:00, 11.10it/s]\n"
     ]
    }
   ],
   "source": [
    "from sklearn.metrics import matthews_corrcoef\n",
    "from tqdm import trange\n",
    "\n",
    "def resample_matthews(df):\n",
    "    df = df.sample(frac=1.00, replace=True)\n",
    "    y_pred = cv.predict(df[X_cols])\n",
    "    y = df[y_test.columns].squeeze().astype(np.float64)\n",
    "    return matthews_corrcoef(y, y_pred)\n",
    "\n",
    "fuller_test_df = pd.concat([X_test, group_test, y_test], axis=1)\n",
    "results = [[resample_matthews(fuller_test_df), fuller_test_df.groupby(group_cols).apply(resample_matthews)] for _ in trange(1000)]"
   ]
  },
  {
   "cell_type": "code",
   "execution_count": 117,
   "metadata": {},
   "outputs": [
    {
     "data": {
      "text/plain": [
       "0.05    0.502420\n",
       "0.50    0.572368\n",
       "0.95    0.636543\n",
       "Name: 95% CI, dtype: float64"
      ]
     },
     "execution_count": 117,
     "metadata": {},
     "output_type": "execute_result"
    }
   ],
   "source": [
    "overall, individual = zip(*results)\n",
    "pd.Series(overall).quantile([.05, .50, .95]).rename('95% CI')"
   ]
  },
  {
   "cell_type": "code",
   "execution_count": 118,
   "metadata": {},
   "outputs": [
    {
     "data": {
      "text/html": [
       "<div>\n",
       "<style scoped>\n",
       "    .dataframe tbody tr th:only-of-type {\n",
       "        vertical-align: middle;\n",
       "    }\n",
       "\n",
       "    .dataframe tbody tr th {\n",
       "        vertical-align: top;\n",
       "    }\n",
       "\n",
       "    .dataframe thead tr th {\n",
       "        text-align: left;\n",
       "    }\n",
       "</style>\n",
       "<table border=\"1\" class=\"dataframe\">\n",
       "  <thead>\n",
       "    <tr>\n",
       "      <th>SEX</th>\n",
       "      <th colspan=\"2\" halign=\"left\">1</th>\n",
       "      <th colspan=\"2\" halign=\"left\">2</th>\n",
       "    </tr>\n",
       "    <tr>\n",
       "      <th>RAC1P</th>\n",
       "      <th>1</th>\n",
       "      <th>2</th>\n",
       "      <th>1</th>\n",
       "      <th>2</th>\n",
       "    </tr>\n",
       "  </thead>\n",
       "  <tbody>\n",
       "    <tr>\n",
       "      <th>0.05</th>\n",
       "      <td>0.540180</td>\n",
       "      <td>0.000000</td>\n",
       "      <td>0.380113</td>\n",
       "      <td>0.654654</td>\n",
       "    </tr>\n",
       "    <tr>\n",
       "      <th>0.50</th>\n",
       "      <td>0.633097</td>\n",
       "      <td>0.547723</td>\n",
       "      <td>0.485378</td>\n",
       "      <td>0.878310</td>\n",
       "    </tr>\n",
       "    <tr>\n",
       "      <th>0.95</th>\n",
       "      <td>0.721992</td>\n",
       "      <td>0.860663</td>\n",
       "      <td>0.586121</td>\n",
       "      <td>1.000000</td>\n",
       "    </tr>\n",
       "  </tbody>\n",
       "</table>\n",
       "</div>"
      ],
      "text/plain": [
       "SEX           1                   2          \n",
       "RAC1P         1         2         1         2\n",
       "0.05   0.540180  0.000000  0.380113  0.654654\n",
       "0.50   0.633097  0.547723  0.485378  0.878310\n",
       "0.95   0.721992  0.860663  0.586121  1.000000"
      ]
     },
     "execution_count": 118,
     "metadata": {},
     "output_type": "execute_result"
    }
   ],
   "source": [
    "pd.concat(individual, axis=1).quantile([.05, .50, .95], axis=1)"
   ]
  },
  {
   "cell_type": "code",
   "execution_count": 228,
   "metadata": {},
   "outputs": [
    {
     "data": {
      "text/plain": [
       "SEX  RAC1P\n",
       "1    1        0.876448\n",
       "     2        0.785714\n",
       "2    1        0.763033\n",
       "     2        0.937500\n",
       "Name: Statistical parity, dtype: float64"
      ]
     },
     "execution_count": 228,
     "metadata": {},
     "output_type": "execute_result"
    }
   ],
   "source": [
    "groups = group_test.assign(y_pred=cv.predict(X_test), y_true=y_test).groupby(group_cols)\n",
    "groups.apply(lambda x: np.mean(x.y_pred == x.y_true)).rename('Statistical parity')"
   ]
  },
  {
   "attachments": {},
   "cell_type": "markdown",
   "metadata": {},
   "source": [
    "#### Task 2.3\n",
    "Use the following arguments in the `opt.fmin_funct`: ` xtol=1e-3, ftol=1e-3, approx_grad=True, maxfun=1000`"
   ]
  },
  {
   "cell_type": "code",
   "execution_count": 120,
   "metadata": {},
   "outputs": [],
   "source": [
    "lambdas = np.array([1e-3, 5e-3, 1e-2, 5e-2, 0.1, 1])\n",
    "###########\n",
    "# YOUR CODE\n",
    "###########"
   ]
  },
  {
   "attachments": {},
   "cell_type": "markdown",
   "metadata": {},
   "source": [
    "#### Task 2.4\n",
    "Use Standard PCA on non-protected features.\n",
    "• Do not forget to normalise data before applying Fair PCA.\n",
    "• Use Ncomponents = Nfeatures − Nprotected groups, you have 4 protected groups.\n",
    "• Look at the correlations between the new dimensions and original protected features (use\n",
    "either Pearson’s or Spearman’s coefficient). What do you see?\n",
    "Use Standard PCA on non-protected features."
   ]
  },
  {
   "cell_type": "code",
   "execution_count": 177,
   "metadata": {},
   "outputs": [],
   "source": [
    "from sklearn.metrics import mean_squared_error\n",
    "from sklearn.decomposition import PCA\n",
    "\n",
    "n_features = len(X_cols)\n",
    "n_components = n_features - 4 # 4 protected: Male, female, black, white\n",
    "\n",
    "scaler = StandardScaler().set_output(transform='pandas')\n",
    "pca = PCA(n_components=n_components).set_output(transform='pandas')\n",
    "\n",
    "X = scaler.fit_transform(X_train[feature_cols])\n",
    "X_pca = pca.fit_transform(X)"
   ]
  },
  {
   "cell_type": "code",
   "execution_count": 178,
   "metadata": {},
   "outputs": [
    {
     "name": "stderr",
     "output_type": "stream",
     "text": [
      "c:\\Users\\Christoffer\\AppData\\Local\\Programs\\Python\\Python310\\lib\\site-packages\\seaborn\\matrix.py:198: RuntimeWarning: All-NaN slice encountered\n",
      "  vmin = np.nanmin(calc_data)\n",
      "c:\\Users\\Christoffer\\AppData\\Local\\Programs\\Python\\Python310\\lib\\site-packages\\seaborn\\matrix.py:203: RuntimeWarning: All-NaN slice encountered\n",
      "  vmax = np.nanmax(calc_data)\n"
     ]
    },
    {
     "data": {
      "image/png": "[encoded data removed]",
      "text/plain": [
       "<Figure size 1080x1080 with 2 Axes>"
      ]
     },
     "metadata": {
      "needs_background": "light"
     },
     "output_type": "display_data"
    }
   ],
   "source": [
    "from itertools import product\n",
    "from scipy.stats import pearsonr\n",
    "import matplotlib.pyplot as plt\n",
    "import seaborn\n",
    "\n",
    "def correlation_matrix(X_, group):\n",
    "    corrected_alpha = 0.05 / (len(X_.columns)*len(group_cols))\n",
    "\n",
    "    corr = np.zeros((len(X_.columns), len(group_cols)))\n",
    "    p = np.zeros((len(X_.columns), len(group_cols)))\n",
    "\n",
    "    for (idx1, col1), (idx2, col2) in product(enumerate(X_.T.values), enumerate(group.T.values)):\n",
    "        correlation, p_val = pearsonr(col1, col2)\n",
    "        corr[idx1, idx2] = correlation\n",
    "        p[idx1, idx2] = p_val\n",
    "\n",
    "    plt.figure(figsize=(15,15))\n",
    "    seaborn.heatmap(corr, mask=p > corrected_alpha)\n",
    "    plt.show()\n",
    "\n",
    "correlation_matrix(X_pca, group_train)"
   ]
  },
  {
   "attachments": {},
   "cell_type": "markdown",
   "metadata": {},
   "source": [
    "#### Project your test data with Standard PCA, and then project it back into the original space.\n",
    "• Calculate the reconstruction error for each sample.\n",
    "• Look at the reconstruction error per each protected group. What do you see?\n"
   ]
  },
  {
   "cell_type": "code",
   "execution_count": 192,
   "metadata": {},
   "outputs": [
    {
     "data": {
      "text/plain": [
       "'mse(X_test) = 5.766885858344436e-07'"
      ]
     },
     "metadata": {},
     "output_type": "display_data"
    },
    {
     "data": {
      "text/plain": [
       "SEX  RAC1P\n",
       "1    1        1.113298e-06\n",
       "     2        2.991120e-30\n",
       "2    1        2.323629e-30\n",
       "     2        1.513403e-30\n",
       "Name: reconstruction_MSE, dtype: float64"
      ]
     },
     "metadata": {},
     "output_type": "display_data"
    }
   ],
   "source": [
    "def pca_reconstruction_mse(data, scaler):\n",
    "    cols = [c for c in data.columns if c not in fuck_these + group_cols]\n",
    "    data = scaler.transform(data[cols]) # remove group columns\n",
    "    data_reconstructed = pca.inverse_transform(pca.transform(data))\n",
    "    #mse = ((data - data_reconstructed)**2).values.mean()\n",
    "    mse = mean_squared_error(data, data_reconstructed)\n",
    "    return mse\n",
    "\n",
    "groups = full_test.groupby(group_cols)\n",
    "mse = lambda x: pca_reconstruction_mse(x, scaler=scaler)\n",
    "display(f'{mse(X_test) = }', groups.apply(mse).rename('reconstruction_MSE'))"
   ]
  },
  {
   "attachments": {},
   "cell_type": "markdown",
   "metadata": {},
   "source": [
    "#### 3. Implement Fair PCA (refer to Lecture 7 Exercises).\n",
    "• Do not forget to normalise data before applying Fair PCA.\n",
    "• Use Ncomponents = Nfeatures − Nprotected groups, you have 4 protected groups).\n",
    "• Look at the correlations between the new dimensions and original protected features. How\n",
    "does results compare to the Standard PCA?\n"
   ]
  },
  {
   "cell_type": "code",
   "execution_count": 180,
   "metadata": {},
   "outputs": [
    {
     "name": "stderr",
     "output_type": "stream",
     "text": [
      "c:\\Users\\Christoffer\\AppData\\Local\\Programs\\Python\\Python310\\lib\\site-packages\\scipy\\stats\\_stats_py.py:4068: PearsonRConstantInputWarning: An input array is constant; the correlation coefficient is not defined.\n",
      "  warnings.warn(PearsonRConstantInputWarning())\n",
      "c:\\Users\\Christoffer\\AppData\\Local\\Programs\\Python\\Python310\\lib\\site-packages\\seaborn\\matrix.py:198: RuntimeWarning: All-NaN slice encountered\n",
      "  vmin = np.nanmin(calc_data)\n",
      "c:\\Users\\Christoffer\\AppData\\Local\\Programs\\Python\\Python310\\lib\\site-packages\\seaborn\\matrix.py:203: RuntimeWarning: All-NaN slice encountered\n",
      "  vmax = np.nanmax(calc_data)\n"
     ]
    },
    {
     "data": {
      "image/png": "[encoded data removed]",
      "text/plain": [
       "<Figure size 1080x1080 with 2 Axes>"
      ]
     },
     "metadata": {
      "needs_background": "light"
     },
     "output_type": "display_data"
    }
   ],
   "source": [
    "from scipy.linalg import null_space, eig, inv\n",
    "\n",
    "# remember; X = scaler.fit_transform(X_train[feature_cols])\n",
    "Z = group_train\n",
    "R = null_space(Z.T @ X)\n",
    "Λ = R.T@X.T@X@R\n",
    "eigenvals, L = eig(Λ)\n",
    "U = R@L[:, :n_components]\n",
    "X_fair = X@U\n",
    "\n",
    "correlation_matrix(X_fair, group_train)"
   ]
  },
  {
   "cell_type": "markdown",
   "metadata": {},
   "source": [
    "#### 4. Project your test data with Fair PCA, and then project it back into the original space.\n",
    "• Calculate the reconstruction error for each sample.\n",
    "• Look at the reconstruction error per each protected group. What do you see? Are there any\n",
    "differences compared to the Standard PCA?"
   ]
  },
  {
   "cell_type": "code",
   "execution_count": 181,
   "metadata": {},
   "outputs": [
    {
     "data": {
      "text/plain": [
       "'fair_pca_reconstruction_mse(X_test) = 0.05778994027043439'"
      ]
     },
     "metadata": {},
     "output_type": "display_data"
    },
    {
     "data": {
      "text/plain": [
       "SEX  RAC1P\n",
       "1    1        0.060186\n",
       "     2        0.097231\n",
       "2    1        0.053579\n",
       "     2        0.040022\n",
       "Name: Reconstruction RMSE, dtype: float64"
      ]
     },
     "metadata": {},
     "output_type": "display_data"
    }
   ],
   "source": [
    "def fair_pca_reconstruction_mse(data):\n",
    "    data = scaler.transform(data[feature_cols]) # scale and remove protected columns\n",
    "    data_reconstructed = data @ U @ U.T\n",
    "    # mse = ((data.values - data_reconstructed)**2).values.mean()\n",
    "    mse = mean_squared_error(data, data_reconstructed)\n",
    "    return mse\n",
    "\n",
    "groups = pd.concat([X_test, group_test], axis=1).groupby(group_cols)\n",
    "\n",
    "display(f'{fair_pca_reconstruction_mse(X_test) = }', groups.apply(lambda x: fair_pca_reconstruction_mse(x)).rename('Reconstruction RMSE'))"
   ]
  },
  {
   "attachments": {},
   "cell_type": "markdown",
   "metadata": {},
   "source": [
    "#### Task 2.5: Logistic Regression and Fair PCA\n",
    "1. Fit a Logistic Regression (your implementation) to the debiased data (via Fair PCA).\n",
    "• Do not use L2-penalisation\n",
    "• Do not forget to add the column of ones for the intercept, β0.\n",
    "2. Evaluate the overall performance of the final model on the Test Set (report uncertainty).\n",
    "3. Look at the fairness metric associated with each SEX and RAC1P groups. Are there any discrepancies?\n"
   ]
  },
  {
   "cell_type": "code",
   "execution_count": 203,
   "metadata": {},
   "outputs": [],
   "source": [
    "def project_full_df(df, U):\n",
    "    feature_df = df[feature_cols] @ U\n",
    "    X = pd.concat([feature_df, df[group_cols]], axis=1)\n",
    "    X.columns = X.columns.astype(str)\n",
    "    return X"
   ]
  },
  {
   "cell_type": "code",
   "execution_count": 225,
   "metadata": {},
   "outputs": [
    {
     "data": {
      "text/plain": [
       "0.832"
      ]
     },
     "execution_count": 225,
     "metadata": {},
     "output_type": "execute_result"
    }
   ],
   "source": [
    "f = project_full_df\n",
    "no_l2_clf = LogReg(gamma=0, lambda_=1e4)\n",
    "no_l2_clf.fit(f(full_train, U), y_train)\n",
    "y_pred = no_l2_clf.predict(f(full_test, U))\n",
    "(y_pred == y_test.squeeze()).mean()"
   ]
  },
  {
   "cell_type": "code",
   "execution_count": 227,
   "metadata": {},
   "outputs": [
    {
     "data": {
      "text/plain": [
       "SEX  RAC1P\n",
       "1    1        0.861004\n",
       "     2        0.928571\n",
       "2    1        0.781991\n",
       "     2        0.937500\n",
       "Name: Statistical parity, dtype: float64"
      ]
     },
     "execution_count": 227,
     "metadata": {},
     "output_type": "execute_result"
    }
   ],
   "source": [
    "groups = group_test.assign(y_pred=y_pred, y_true=y_test).groupby(group_cols)\n",
    "groups.apply(lambda x: np.mean(x.y_pred == x.y_true)).rename('Statistical parity')"
   ]
  }
 ],
 "metadata": {
  "kernelspec": {
   "display_name": "graph",
   "language": "python",
   "name": "python3"
  },
  "language_info": {
   "codemirror_mode": {
    "name": "ipython",
    "version": 3
   },
   "file_extension": ".py",
   "mimetype": "text/x-python",
   "name": "python",
   "nbconvert_exporter": "python",
   "pygments_lexer": "ipython3",
   "version": "3.10.2"
  },
  "orig_nbformat": 4
 },
 "nbformat": 4,
 "nbformat_minor": 2
}
